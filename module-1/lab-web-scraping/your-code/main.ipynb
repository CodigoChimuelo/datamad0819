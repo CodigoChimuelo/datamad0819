{
 "cells": [
  {
   "cell_type": "markdown",
   "metadata": {},
   "source": [
    "# Web Scraping Lab\n",
    "\n",
    "You will find in this notebook some scrapy exercises to practise your scraping skills.\n",
    "\n",
    "**Tips:**\n",
    "\n",
    "- Check the response status code for each request to ensure you have obtained the intended contennt.\n",
    "- Print the response text in each request to understand the kind of info you are getting and its format.\n",
    "- Check for patterns in the response text to extract the data/info requested in each question.\n",
    "- Visit each url and take a look at its source through Chrome DevTools. You'll need to identify the html tags, special class names etc. used for the html content you are expected to extract."
   ]
  },
  {
   "cell_type": "markdown",
   "metadata": {},
   "source": [
    "- [Requests library](http://docs.python-requests.org/en/master/#the-user-guide) documentation \n",
    "- [Beautiful Soup Doc](https://www.crummy.com/software/BeautifulSoup/bs4/doc/)\n",
    "- [Urllib](https://docs.python.org/3/library/urllib.html#module-urllib)\n",
    "- [re lib](https://docs.python.org/3/library/re.html)\n",
    "- [lxml lib](https://lxml.de/)\n",
    "- [Scrapy](https://scrapy.org/)\n",
    "- [List of HTTP status codes](https://en.wikipedia.org/wiki/List_of_HTTP_status_codes)\n",
    "- [HTML basics](http://www.simplehtmlguide.com/cheatsheet.php)\n",
    "- [CSS basics](https://www.cssbasics.com/#page_start)"
   ]
  },
  {
   "cell_type": "markdown",
   "metadata": {},
   "source": [
    "#### Below are the libraries and modules you may need. `requests`,  `BeautifulSoup` and `pandas` are imported for you. If you prefer to use additional libraries feel free to uncomment them."
   ]
  },
  {
   "cell_type": "code",
   "execution_count": 1,
   "metadata": {},
   "outputs": [],
   "source": [
    "import requests\n",
    "from bs4 import BeautifulSoup\n",
    "import pandas as pd\n",
    "# from pprint import pprint\n",
    "# from lxml import html\n",
    "# from lxml.html import fromstring\n",
    "# import urllib.request\n",
    "# from urllib.request import urlopen\n",
    "# import random\n",
    "# import re\n",
    "# import scrapy\n",
    "#hello000___DSFasdfADSFasdfasdlfjalsfnoñm`´_aDFADSFKLaidjflj"
   ]
  },
  {
   "cell_type": "markdown",
   "metadata": {},
   "source": [
    "#### Download, parse (using BeautifulSoup), and print the content from the Trending Developers page from GitHub:"
   ]
  },
  {
   "cell_type": "code",
   "execution_count": 2,
   "metadata": {},
   "outputs": [],
   "source": [
    "# This is the url you will scrape in this exercise\n",
    "url = 'https://github.com/trending/developers'"
   ]
  },
  {
   "cell_type": "code",
   "execution_count": 3,
   "metadata": {},
   "outputs": [
    {
     "name": "stdout",
     "output_type": "stream",
     "text": [
      "<head>\n",
      "<meta charset=\"utf-8\"/>\n",
      "<link href=\"https://github.githubassets.com\" rel=\"dns-prefetch\"/>\n",
      "<link href=\"https://avatars0.githubusercontent.com\" rel=\"dns-prefetch\"/>\n",
      "<link href=\"https://avatars1.githubusercontent.com\" rel=\"dns-prefetch\"/>\n",
      "<link href=\"https://avatars2.githubusercontent.com\" rel=\"dns-prefetch\"/>\n",
      "<link href=\"https://avatars3.githubusercontent.com\" rel=\"dns-prefetch\"/>\n",
      "<link href=\"https://github-cloud.s3.amazonaws.com\" rel=\"dns-prefetch\"/>\n",
      "<link href=\"https://user-images.githubusercontent.com/\" rel=\"dns-prefetch\"/>\n",
      "<link crossorigin=\"anonymous\" href=\"https://github.githubassets.com/assets/frameworks-6b8b7859c4b8fbe3ab45f8ab0905a9f8.css\" integrity=\"sha512-aVn2DoCuXdXX9G3sp/Luupl/Ui00/iXrUh7Ke3geLlkigQY8GHBky7kKRSuyeKxGApWDdCQUy+6gTF1ZmYHWkw==\" media=\"all\" rel=\"stylesheet\">\n",
      "<link crossorigin=\"anonymous\" href=\"https://github.githubassets.com/assets/site-b046b27487428b94fc20941868838997.css\" integrity=\"sha512-Myp6HIV6QpUnPxl7XbmQTeyGZboMMugCA3QK9vka+wV9W6ZE0NoHtZh0nWjowNoOB34X1nAgcEgfhhzhy+5u4g==\" media=\"all\" rel=\"stylesheet\">\n",
      "<link crossorigin=\"anonymous\" href=\"https://github.githubassets.com/assets/github-74ca376c8e9adc68a252986ce12b0857.css\" integrity=\"sha512-QhuwqMmfVbf7hBKQiI06Hhr+N3pwbFEoddGW/mB4FL2g0/hxjDyFOZQfa8NF2wymI8UnTVRHFU1zeG0x+wLbQw==\" media=\"all\" rel=\"stylesheet\">\n",
      "<meta content=\"width=device-width\" name=\"viewport\"/>\n",
      "<title>Trending  developers on GitHub today · GitHub</title>\n",
      "<meta content=\"GitHub is where people build software. More than 40 million people use GitHub to discover, fork, and contribute to over 100 million projects.\" name=\"description\"/>\n",
      "<link href=\"/opensearch.xml\" rel=\"search\" title=\"GitHub\" type=\"application/opensearchdescription+xml\"/>\n",
      "<link href=\"https://github.com/fluidicon.png\" rel=\"fluid-icon\" title=\"GitHub\"/>\n",
      "<meta content=\"1401488693436528\" property=\"fb:app_id\"/>\n",
      "<meta content=\"https://github.com\" property=\"og:url\"/>\n",
      "<meta content=\"GitHub\" property=\"og:site_name\"/>\n",
      "<meta content=\"Build software better, together\" property=\"og:title\"/>\n",
      "<meta content=\"GitHub is where people build software. More than 40 million people use GitHub to discover, fork, and contribute to over 100 million projects.\" property=\"og:description\"/>\n",
      "<meta content=\"https://github.githubassets.com/images/modules/open_graph/github-logo.png\" property=\"og:image\"/>\n",
      "<meta content=\"image/png\" property=\"og:image:type\"/>\n",
      "<meta content=\"1200\" property=\"og:image:width\"/>\n",
      "<meta content=\"1200\" property=\"og:image:height\"/>\n",
      "<meta content=\"https://github.githubassets.com/images/modules/open_graph/github-mark.png\" property=\"og:image\"/>\n",
      "<meta content=\"image/png\" property=\"og:image:type\"/>\n",
      "<meta content=\"1200\" property=\"og:image:width\"/>\n",
      "<meta content=\"620\" property=\"og:image:height\"/>\n",
      "<meta content=\"https://github.githubassets.com/images/modules/open_graph/github-octocat.png\" property=\"og:image\"/>\n",
      "<meta content=\"image/png\" property=\"og:image:type\"/>\n",
      "<meta content=\"1200\" property=\"og:image:width\"/>\n",
      "<meta content=\"620\" property=\"og:image:height\"/>\n",
      "<meta content=\"github\" property=\"twitter:site\"/>\n",
      "<meta content=\"13334762\" property=\"twitter:site:id\"/>\n",
      "<meta content=\"github\" property=\"twitter:creator\"/>\n",
      "<meta content=\"13334762\" property=\"twitter:creator:id\"/>\n",
      "<meta content=\"summary_large_image\" property=\"twitter:card\"/>\n",
      "<meta content=\"GitHub\" property=\"twitter:title\"/>\n",
      "<meta content=\"GitHub is where people build software. More than 40 million people use GitHub to discover, fork, and contribute to over 100 million projects.\" property=\"twitter:description\"/>\n",
      "<meta content=\"https://github.githubassets.com/images/modules/open_graph/github-logo.png\" property=\"twitter:image:src\"/>\n",
      "<meta content=\"1200\" property=\"twitter:image:width\"/>\n",
      "<meta content=\"1200\" property=\"twitter:image:height\"/>\n",
      "<link href=\"https://github.githubassets.com/\" rel=\"assets\"/>\n",
      "<meta content=\"1000\" name=\"pjax-timeout\"/>\n",
      "<meta content=\"C88A:2EA80:130ECD9:1D01919:5D7169CD\" data-pjax-transient=\"\" name=\"request-id\"/>\n",
      "<meta data-pjax-transient=\"\" name=\"selected-link\" value=\"trending_developers\"/>\n",
      "<meta content=\"KT5gs8h0wvaagLKAVWq8bbeNwnZZK1r1XQysX3xurLU\" name=\"google-site-verification\"/>\n",
      "<meta content=\"ZzhVyEFwb7w3e0-uOTltm8Jsck2F5StVihD0exw2fsA\" name=\"google-site-verification\"/>\n",
      "<meta content=\"GXs5KoUUkNCoaAZn7wPN-t01Pywp9M3sEjnt_3_ZWPc\" name=\"google-site-verification\"/>\n",
      "<meta content=\"collector.githubapp.com\" name=\"octolytics-host\"><meta content=\"github\" name=\"octolytics-app-id\"><meta content=\"https://collector.githubapp.com/github-external/browser_event\" name=\"octolytics-event-url\"><meta content=\"C88A:2EA80:130ECD9:1D01919:5D7169CD\" name=\"octolytics-dimension-request_id\"><meta content=\"ams\" name=\"octolytics-dimension-region_edge\"><meta content=\"iad\" name=\"octolytics-dimension-region_render\"><meta class=\"js-octo-ga-id\" content=\"\" name=\"octolytics-dimension-ga_id\"><meta content=\"1766048660571908557\" name=\"octolytics-dimension-visitor_id\">\n",
      "<meta content=\"UA-3769691-2\" name=\"google-analytics\"/>\n",
      "<meta class=\"js-ga-set\" content=\"Logged Out\" name=\"dimension1\"/>\n",
      "<meta content=\"github.com\" name=\"hostname\"/>\n",
      "<meta content=\"\" name=\"user-login\"/>\n",
      "<meta content=\"github.com\" name=\"expected-hostname\"/>\n",
      "<meta content=\"MDYyNzM4YjU4ZGE5ZThlODVjZWFlYzI3NTExOGViNWExYTgxYWUyZmYwMDg5NjI1ZmFmNGJlOTJiYjZmMjU3NHx7InJlbW90ZV9hZGRyZXNzIjoiNjIuMTc1LjIzNi4xMzciLCJyZXF1ZXN0X2lkIjoiQzg4QToyRUE4MDoxMzBFQ0Q5OjFEMDE5MTk6NUQ3MTY5Q0QiLCJ0aW1lc3RhbXAiOjE1Njc3MTM3NDEsImhvc3QiOiJnaXRodWIuY29tIn0=\" name=\"js-proxy-site-detection-payload\"/>\n",
      "<meta content=\"ACTIONS_V2_ON_MARKETPLACE,MARKETPLACE_FEATURED_BLOG_POSTS,MARKETPLACE_INVOICED_BILLING,MARKETPLACE_SOCIAL_PROOF_CUSTOMERS,MARKETPLACE_TRENDING_SOCIAL_PROOF,MARKETPLACE_RECOMMENDATIONS,MARKETPLACE_PENDING_INSTALLATIONS\" name=\"enabled-features\"/>\n",
      "<meta content=\"04db6a4f3f222d73f07f15c4edcb2222a5017db0\" name=\"html-safe-nonce\"/>\n",
      "<meta content=\"d237c2b71e49a92d4a6366cb711255df\" http-equiv=\"x-pjax-version\"/>\n",
      "<link crossorigin=\"anonymous\" href=\"https://github.githubassets.com/assets/site-b046b27487428b94fc20941868838997.css\" integrity=\"sha512-Myp6HIV6QpUnPxl7XbmQTeyGZboMMugCA3QK9vka+wV9W6ZE0NoHtZh0nWjowNoOB34X1nAgcEgfhhzhy+5u4g==\" media=\"all\" rel=\"stylesheet\">\n",
      "<link data-pjax-transient=\"\" href=\"https://github.com/trending/developers\" rel=\"canonical\"/>\n",
      "<meta content=\"https://api.github.com/_private/browser/stats\" name=\"browser-stats-url\"/>\n",
      "<meta content=\"https://api.github.com/_private/browser/errors\" name=\"browser-errors-url\"/>\n",
      "<link color=\"#000000\" href=\"https://github.githubassets.com/pinned-octocat.svg\" rel=\"mask-icon\"/>\n",
      "<link class=\"js-site-favicon\" href=\"https://github.githubassets.com/favicon.ico\" rel=\"icon\" type=\"image/x-icon\"/>\n",
      "<meta content=\"#1e2327\" name=\"theme-color\"/>\n",
      "<link crossorigin=\"use-credentials\" href=\"/manifest.json\" rel=\"manifest\"/>\n",
      "</link></meta></meta></meta></meta></meta></meta></meta></meta></link></link></link></head>\n"
     ]
    }
   ],
   "source": [
    "#your code\n",
    "page = requests.get(url)\n",
    "soup = BeautifulSoup(page.text, 'html.parser')\n",
    "print(soup.head)"
   ]
  },
  {
   "cell_type": "markdown",
   "metadata": {},
   "source": [
    "#### Display the names of the trending developers retrieved in the previous step.\n",
    "\n",
    "Your output should be a Python list of developer names. Each name should not contain any html tag.\n",
    "\n",
    "**Instructions:**\n",
    "\n",
    "1. Find out the html tag and class names used for the developer names. You can achieve this using Chrome DevTools.\n",
    "\n",
    "1. Use BeautifulSoup to extract all the html elements that contain the developer names.\n",
    "\n",
    "1. Use string manipulation techniques to replace whitespaces and linebreaks (i.e. `\\n`) in the *text* of each html element. Use a list to store the clean names.\n",
    "\n",
    "1. Print the list of names.\n",
    "\n",
    "Your output should look like below:\n",
    "\n",
    "```\n",
    "['trimstray (@trimstray)',\n",
    " 'joewalnes (JoeWalnes)',\n",
    " 'charlax (Charles-AxelDein)',\n",
    " 'ForrestKnight (ForrestKnight)',\n",
    " 'revery-ui (revery-ui)',\n",
    " 'alibaba (Alibaba)',\n",
    " 'Microsoft (Microsoft)',\n",
    " 'github (GitHub)',\n",
    " 'facebook (Facebook)',\n",
    " 'boazsegev (Bo)',\n",
    " 'google (Google)',\n",
    " 'cloudfetch',\n",
    " 'sindresorhus (SindreSorhus)',\n",
    " 'tensorflow',\n",
    " 'apache (TheApacheSoftwareFoundation)',\n",
    " 'DevonCrawford (DevonCrawford)',\n",
    " 'ARMmbed (ArmMbed)',\n",
    " 'vuejs (vuejs)',\n",
    " 'fastai (fast.ai)',\n",
    " 'QiShaoXuan (Qi)',\n",
    " 'joelparkerhenderson (JoelParkerHenderson)',\n",
    " 'torvalds (LinusTorvalds)',\n",
    " 'CyC2018',\n",
    " 'komeiji-satori (神楽坂覚々)',\n",
    " 'script-8']\n",
    " ```"
   ]
  },
  {
   "cell_type": "code",
   "execution_count": 4,
   "metadata": {},
   "outputs": [
    {
     "name": "stdout",
     "output_type": "stream",
     "text": [
      "['fzaninotto', 'jdneo', 'dagar', 'micahflee', 'seanmonstar', 'calebporzio', 'plouc', 'hawkw', 'jamesmontemagno', 'frenck', 'errordeveloper', 'jshier', 'kylef', 'balloob', 'ahmetb', 'alexcrichton', 'tonsky', 'zombieJ', 'alexellis', 'justjavac', 'travist', 'mitchellh', 'alex', 'sloria', 'sdispater']\n"
     ]
    }
   ],
   "source": [
    "#your code\n",
    "mylabels = soup.find_all('p', class_='f4 text-normal mb-1')\n",
    "topnames = [et.text.strip('\\n') for et in mylabels]\n",
    "print(topnames)"
   ]
  },
  {
   "cell_type": "markdown",
   "metadata": {},
   "source": [
    "#### Display the trending Python repositories in GitHub\n",
    "\n",
    "The steps to solve this problem is similar to the previous one except that you need to find out the repository names instead of developer names."
   ]
  },
  {
   "cell_type": "code",
   "execution_count": 5,
   "metadata": {},
   "outputs": [],
   "source": [
    "# This is the url you will scrape in this exercise\n",
    "url = 'https://github.com/trending/python?since=daily'"
   ]
  },
  {
   "cell_type": "code",
   "execution_count": 6,
   "metadata": {},
   "outputs": [
    {
     "name": "stdout",
     "output_type": "stream",
     "text": [
      "['12306', 'mlcourse.ai', 'DeepFaceLab', 'ckiptagger', 'neural-structured-learning', 'GENTRL', 'mlfinlab', 'faceswap', 'Real-Time-Voice-Cloning', 'insightface', 'easy12306', 'keras', 'mne-python', 'py12306', 'fullstack.ai', 'awx', 'pytorch-text-recognition', 'heartrate', 'gensim', 'mmdetection', 'models', 'azure-cli', 'heat-income', 'flair', 'iOS-DeviceSupport']\n"
     ]
    }
   ],
   "source": [
    "#your code\n",
    "page = requests.get(url)\n",
    "soup = BeautifulSoup(page.text, 'html.parser')\n",
    "mylabels = soup.find_all('h1', class_='h3 lh-condensed')\n",
    "topnames = [et.text.split(\"/\")[1].replace(\"\\n\",\"\").replace(\" \",\"\") for et in mylabels]\n",
    "print(topnames)          "
   ]
  },
  {
   "cell_type": "markdown",
   "metadata": {},
   "source": [
    "#### Display all the image links from Walt Disney wikipedia page"
   ]
  },
  {
   "cell_type": "code",
   "execution_count": 7,
   "metadata": {},
   "outputs": [],
   "source": [
    "# This is the url you will scrape in this exercise\n",
    "url = 'https://en.wikipedia.org/wiki/Walt_Disney'"
   ]
  },
  {
   "cell_type": "code",
   "execution_count": 8,
   "metadata": {},
   "outputs": [
    {
     "name": "stdout",
     "output_type": "stream",
     "text": [
      "['//upload.wikimedia.org/wikipedia/en/thumb/e/e7/Cscr-featured.svg/20px-Cscr-featured.svg.png', '//upload.wikimedia.org/wikipedia/en/thumb/1/1b/Semi-protection-shackle.svg/20px-Semi-protection-shackle.svg.png', '//upload.wikimedia.org/wikipedia/commons/thumb/d/df/Walt_Disney_1946.JPG/220px-Walt_Disney_1946.JPG', '//upload.wikimedia.org/wikipedia/commons/thumb/8/87/Walt_Disney_1942_signature.svg/150px-Walt_Disney_1942_signature.svg.png', '//upload.wikimedia.org/wikipedia/commons/thumb/c/c4/Walt_Disney_envelope_ca._1921.jpg/220px-Walt_Disney_envelope_ca._1921.jpg', '//upload.wikimedia.org/wikipedia/commons/thumb/4/4d/Newman_Laugh-O-Gram_%281921%29.webm/220px-seek%3D2-Newman_Laugh-O-Gram_%281921%29.webm.jpg', '//upload.wikimedia.org/wikipedia/commons/thumb/0/0d/Trolley_Troubles_poster.jpg/170px-Trolley_Troubles_poster.jpg', '//upload.wikimedia.org/wikipedia/commons/thumb/7/71/Walt_Disney_and_his_cartoon_creation_%22Mickey_Mouse%22_-_National_Board_of_Review_Magazine.jpg/170px-Walt_Disney_and_his_cartoon_creation_%22Mickey_Mouse%22_-_National_Board_of_Review_Magazine.jpg', '//upload.wikimedia.org/wikipedia/en/thumb/4/4e/Steamboat-willie.jpg/170px-Steamboat-willie.jpg', '//upload.wikimedia.org/wikipedia/commons/thumb/5/57/Walt_Disney_1935.jpg/170px-Walt_Disney_1935.jpg', '//upload.wikimedia.org/wikipedia/commons/thumb/c/cd/Walt_Disney_Snow_white_1937_trailer_screenshot_%2813%29.jpg/220px-Walt_Disney_Snow_white_1937_trailer_screenshot_%2813%29.jpg', '//upload.wikimedia.org/wikipedia/commons/thumb/1/15/Disney_drawing_goofy.jpg/170px-Disney_drawing_goofy.jpg', '//upload.wikimedia.org/wikipedia/commons/thumb/1/13/DisneySchiphol1951.jpg/220px-DisneySchiphol1951.jpg', '//upload.wikimedia.org/wikipedia/commons/thumb/8/8c/WaltDisneyplansDisneylandDec1954.jpg/220px-WaltDisneyplansDisneylandDec1954.jpg', '//upload.wikimedia.org/wikipedia/commons/thumb/f/ff/Walt_disney_portrait_right.jpg/170px-Walt_disney_portrait_right.jpg', '//upload.wikimedia.org/wikipedia/commons/thumb/1/1a/Walt_Disney_Grave.JPG/170px-Walt_Disney_Grave.JPG', '//upload.wikimedia.org/wikipedia/commons/thumb/2/2d/Roy_O._Disney_with_Company_at_Press_Conference.jpg/170px-Roy_O._Disney_with_Company_at_Press_Conference.jpg', '//upload.wikimedia.org/wikipedia/commons/thumb/a/a9/Disney_Display_Case.JPG/170px-Disney_Display_Case.JPG', '//upload.wikimedia.org/wikipedia/commons/thumb/6/6c/Disney1968.jpg/170px-Disney1968.jpg', '//upload.wikimedia.org/wikipedia/en/thumb/8/8a/OOjs_UI_icon_edit-ltr-progressive.svg/10px-OOjs_UI_icon_edit-ltr-progressive.svg.png', '//upload.wikimedia.org/wikipedia/commons/thumb/d/da/Animation_disc.svg/30px-Animation_disc.svg.png', '//upload.wikimedia.org/wikipedia/en/thumb/6/69/P_vip.svg/29px-P_vip.svg.png', '//upload.wikimedia.org/wikipedia/commons/thumb/1/1a/Magic_Kingdom_castle.jpg/24px-Magic_Kingdom_castle.jpg', '//upload.wikimedia.org/wikipedia/en/thumb/e/e7/Video-x-generic.svg/30px-Video-x-generic.svg.png', '//upload.wikimedia.org/wikipedia/commons/thumb/a/a3/Flag_of_Los_Angeles_County%2C_California.svg/30px-Flag_of_Los_Angeles_County%2C_California.svg.png', '//upload.wikimedia.org/wikipedia/commons/thumb/8/8c/Blank_television_set.svg/30px-Blank_television_set.svg.png', '//upload.wikimedia.org/wikipedia/en/thumb/a/a4/Flag_of_the_United_States.svg/30px-Flag_of_the_United_States.svg.png', '//upload.wikimedia.org/wikipedia/en/thumb/4/4a/Commons-logo.svg/22px-Commons-logo.svg.png', '//upload.wikimedia.org/wikipedia/commons/thumb/f/fa/Wikiquote-logo.svg/25px-Wikiquote-logo.svg.png', '//upload.wikimedia.org/wikipedia/commons/thumb/f/ff/Wikidata-logo.svg/30px-Wikidata-logo.svg.png', '//upload.wikimedia.org/wikipedia/en/thumb/8/8a/OOjs_UI_icon_edit-ltr-progressive.svg/10px-OOjs_UI_icon_edit-ltr-progressive.svg.png', '//en.wikipedia.org/wiki/Special:CentralAutoLogin/start?type=1x1', '/static/images/wikimedia-button.png', '/static/images/poweredby_mediawiki_88x31.png']\n"
     ]
    }
   ],
   "source": [
    "#your code\n",
    "page = requests.get(url)\n",
    "soup = BeautifulSoup(page.text, 'html.parser')\n",
    "imglabels = soup.find_all('img')\n",
    "src = [img[\"src\"] for img in imglabels]\n",
    "print(src)"
   ]
  },
  {
   "cell_type": "markdown",
   "metadata": {},
   "source": [
    "#### Retrieve an arbitary Wikipedia page of \"Python\" and create a list of links on that page"
   ]
  },
  {
   "cell_type": "code",
   "execution_count": 9,
   "metadata": {},
   "outputs": [],
   "source": [
    "# This is the url you will scrape in this exercise\n",
    "url ='https://en.wikipedia.org/wiki/Python' "
   ]
  },
  {
   "cell_type": "code",
   "execution_count": 10,
   "metadata": {},
   "outputs": [
    {
     "name": "stdout",
     "output_type": "stream",
     "text": [
      "0\n",
      "[]\n"
     ]
    }
   ],
   "source": [
    "#your code\n",
    "page = requests.get(url)\n",
    "soup = BeautifulSoup(page.text, 'html.parser')\n",
    "bodycontent = soup.find_all('div', class_='usctitlechanged')\n",
    "title = [div for div in bodycontent]\n",
    "print(len(title))\n",
    "titles = [tit.text.replace(\"\\n\",\"\").replace(\" \",\"\") for tit in title]\n",
    "print(titles)"
   ]
  },
  {
   "cell_type": "markdown",
   "metadata": {},
   "source": [
    "#### Number of Titles that have changed in the United States Code since its last release point "
   ]
  },
  {
   "cell_type": "code",
   "execution_count": 11,
   "metadata": {},
   "outputs": [],
   "source": [
    "# This is the url you will scrape in this exercise\n",
    "url = 'http://uscode.house.gov/download/download.shtml'"
   ]
  },
  {
   "cell_type": "code",
   "execution_count": 12,
   "metadata": {},
   "outputs": [],
   "source": [
    "#your code\n",
    "page = requests.get(url)\n",
    "soup = BeautifulSoup(page.text, 'html.parser')\n",
    "bodycontent = soup.find_all('div', class_='usctitlechanged')\n",
    "title = [div for div in bodycontent]\n",
    "print(len(title))\n",
    "titles = [tit.text.replace(\"\\n\",\"\").replace(\" \",\"\") for tit in title]\n",
    "print(titles)"
   ]
  },
  {
   "cell_type": "markdown",
   "metadata": {},
   "source": [
    "#### A Python list with the top ten FBI's Most Wanted names "
   ]
  },
  {
   "cell_type": "code",
   "execution_count": 13,
   "metadata": {},
   "outputs": [],
   "source": [
    "# This is the url you will scrape in this exercise\n",
    "url = 'https://www.fbi.gov/wanted/topten'"
   ]
  },
  {
   "cell_type": "code",
   "execution_count": 14,
   "metadata": {},
   "outputs": [],
   "source": [
    "#your code \n",
    "page = requests.get(url)\n",
    "soup = BeautifulSoup(page.text, 'html.parser')\n",
    "bodycontent = soup.find_all('h3', class_='title')\n",
    "name = [div.text.strip('\\n') for div in bodycontent]\n",
    "\n",
    "print(name)"
   ]
  },
  {
   "cell_type": "markdown",
   "metadata": {},
   "source": [
    "####  20 latest earthquakes info (date, time, latitude, longitude and region name) by the EMSC as a pandas dataframe"
   ]
  },
  {
   "cell_type": "code",
   "execution_count": 15,
   "metadata": {},
   "outputs": [],
   "source": [
    "# This is the url you will scrape in this exercise\n",
    "url = 'https://www.emsc-csem.org/Earthquake/'"
   ]
  },
  {
   "cell_type": "code",
   "execution_count": 16,
   "metadata": {},
   "outputs": [],
   "source": [
    "#your code\n",
    "page = requests.get(url)\n",
    "soup = BeautifulSoup(page.text, 'html.parser')\n",
    "bodycontent = soup.find_all('tbody')\n",
    "hquakes=[]\n",
    "for elem in bodycontent:\n",
    "    \n",
    "\n"
   ]
  },
  {
   "cell_type": "markdown",
   "metadata": {},
   "source": [
    "#### Display the date, days, title, city, country of next 25 hackathon events as a Pandas dataframe table"
   ]
  },
  {
   "cell_type": "code",
   "execution_count": 17,
   "metadata": {},
   "outputs": [],
   "source": [
    "# This is the url you will scrape in this exercise\n",
    "url ='https://hackevents.co/hackathons'"
   ]
  },
  {
   "cell_type": "code",
   "execution_count": 18,
   "metadata": {},
   "outputs": [],
   "source": [
    "#your code"
   ]
  },
  {
   "cell_type": "markdown",
   "metadata": {},
   "source": [
    "#### Count number of tweets by a given Twitter account."
   ]
  },
  {
   "cell_type": "markdown",
   "metadata": {},
   "source": [
    "You will need to include a ***try/except block*** for account names not found. \n",
    "<br>***Hint:*** the program should count the number of tweets for any provided account"
   ]
  },
  {
   "cell_type": "code",
   "execution_count": 19,
   "metadata": {},
   "outputs": [],
   "source": [
    "# This is the url you will scrape in this exercise \n",
    "# You will need to add the account credentials to this url\n",
    "url = 'https://twitter.com/'"
   ]
  },
  {
   "cell_type": "code",
   "execution_count": 20,
   "metadata": {},
   "outputs": [],
   "source": [
    "#your code\n",
    "page = requests.get(url)\n",
    "soup = BeautifulSoup(page.text, 'html.parser')\n",
    "bodycontent = soup.find_all('div', class_='card-body')"
   ]
  },
  {
   "cell_type": "markdown",
   "metadata": {},
   "source": [
    "#### Number of followers of a given twitter account"
   ]
  },
  {
   "cell_type": "markdown",
   "metadata": {},
   "source": [
    "You will need to include a ***try/except block*** in case account/s name not found. \n",
    "<br>***Hint:*** the program should count the followers for any provided account"
   ]
  },
  {
   "cell_type": "code",
   "execution_count": 21,
   "metadata": {},
   "outputs": [],
   "source": [
    "# This is the url you will scrape in this exercise \n",
    "# You will need to add the account credentials to this url\n",
    "url = 'https://twitter.com/'"
   ]
  },
  {
   "cell_type": "code",
   "execution_count": 22,
   "metadata": {},
   "outputs": [],
   "source": [
    "#your code"
   ]
  },
  {
   "cell_type": "markdown",
   "metadata": {},
   "source": [
    "#### List all language names and number of related articles in the order they appear in wikipedia.org"
   ]
  },
  {
   "cell_type": "code",
   "execution_count": 23,
   "metadata": {},
   "outputs": [],
   "source": [
    "# This is the url you will scrape in this exercise\n",
    "url = 'https://www.wikipedia.org/'"
   ]
  },
  {
   "cell_type": "code",
   "execution_count": 24,
   "metadata": {},
   "outputs": [],
   "source": [
    "#your code"
   ]
  },
  {
   "cell_type": "markdown",
   "metadata": {},
   "source": [
    "#### A list with the different kind of datasets available in data.gov.uk "
   ]
  },
  {
   "cell_type": "code",
   "execution_count": 25,
   "metadata": {},
   "outputs": [],
   "source": [
    "# This is the url you will scrape in this exercise\n",
    "url = 'https://data.gov.uk/'"
   ]
  },
  {
   "cell_type": "code",
   "execution_count": 26,
   "metadata": {},
   "outputs": [],
   "source": [
    "#your code "
   ]
  },
  {
   "cell_type": "markdown",
   "metadata": {},
   "source": [
    "#### Top 10 languages by number of native speakers stored in a Pandas Dataframe"
   ]
  },
  {
   "cell_type": "code",
   "execution_count": 27,
   "metadata": {},
   "outputs": [],
   "source": [
    "# This is the url you will scrape in this exercise\n",
    "url = 'https://en.wikipedia.org/wiki/List_of_languages_by_number_of_native_speakers'"
   ]
  },
  {
   "cell_type": "code",
   "execution_count": 28,
   "metadata": {},
   "outputs": [],
   "source": [
    "#your code"
   ]
  },
  {
   "cell_type": "markdown",
   "metadata": {},
   "source": [
    "### BONUS QUESTIONS"
   ]
  },
  {
   "cell_type": "markdown",
   "metadata": {},
   "source": [
    "#### Scrape a certain number of tweets of a given Twitter account."
   ]
  },
  {
   "cell_type": "code",
   "execution_count": 29,
   "metadata": {},
   "outputs": [],
   "source": [
    "# This is the url you will scrape in this exercise \n",
    "# You will need to add the account credentials to this url\n",
    "url = 'https://twitter.com/'"
   ]
  },
  {
   "cell_type": "code",
   "execution_count": 30,
   "metadata": {},
   "outputs": [],
   "source": [
    "# your code"
   ]
  },
  {
   "cell_type": "markdown",
   "metadata": {},
   "source": [
    "#### IMDB's Top 250 data (movie name, Initial release, director name and stars) as a pandas dataframe"
   ]
  },
  {
   "cell_type": "code",
   "execution_count": 31,
   "metadata": {},
   "outputs": [],
   "source": [
    "# This is the url you will scrape in this exercise \n",
    "url = 'https://www.imdb.com/chart/top'"
   ]
  },
  {
   "cell_type": "code",
   "execution_count": 32,
   "metadata": {},
   "outputs": [],
   "source": [
    "# your code"
   ]
  },
  {
   "cell_type": "markdown",
   "metadata": {},
   "source": [
    "#### Movie name, year and a brief summary of the top 10 random movies (IMDB) as a pandas dataframe."
   ]
  },
  {
   "cell_type": "code",
   "execution_count": 33,
   "metadata": {},
   "outputs": [],
   "source": [
    "#This is the url you will scrape in this exercise\n",
    "url = 'http://www.imdb.com/chart/top'"
   ]
  },
  {
   "cell_type": "code",
   "execution_count": 34,
   "metadata": {},
   "outputs": [],
   "source": [
    "#your code"
   ]
  },
  {
   "cell_type": "markdown",
   "metadata": {},
   "source": [
    "#### Find the live weather report (temperature, wind speed, description and weather) of a given city."
   ]
  },
  {
   "cell_type": "code",
   "execution_count": null,
   "metadata": {},
   "outputs": [],
   "source": [
    "#https://openweathermap.org/current\n",
    "city = city=input('Enter the city:')\n",
    "url = 'http://api.openweathermap.org/data/2.5/weather?'+'q='+city+'&APPID=b35975e18dc93725acb092f7272cc6b8&units=metric'"
   ]
  },
  {
   "cell_type": "code",
   "execution_count": null,
   "metadata": {},
   "outputs": [],
   "source": [
    "# your code"
   ]
  },
  {
   "cell_type": "markdown",
   "metadata": {},
   "source": [
    "#### Book name,price and stock availability as a pandas dataframe."
   ]
  },
  {
   "cell_type": "code",
   "execution_count": null,
   "metadata": {},
   "outputs": [],
   "source": [
    "# This is the url you will scrape in this exercise. \n",
    "# It is a fictional bookstore created to be scraped. \n",
    "url = 'http://books.toscrape.com/'"
   ]
  },
  {
   "cell_type": "code",
   "execution_count": null,
   "metadata": {},
   "outputs": [],
   "source": [
    "#your code"
   ]
  }
 ],
 "metadata": {
  "kernelspec": {
   "display_name": "Python 3",
   "language": "python",
   "name": "python3"
  },
  "language_info": {
   "codemirror_mode": {
    "name": "ipython",
    "version": 3
   },
   "file_extension": ".py",
   "mimetype": "text/x-python",
   "name": "python",
   "nbconvert_exporter": "python",
   "pygments_lexer": "ipython3",
   "version": "3.7.3"
  }
 },
 "nbformat": 4,
 "nbformat_minor": 2
}
