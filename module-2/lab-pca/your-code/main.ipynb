{
 "cells": [
  {
   "cell_type": "markdown",
   "metadata": {},
   "source": [
    "# Before your start:\n",
    "- Read the README.md file\n",
    "- Comment as much as you can and use the resources (README.md file)\n",
    "- Happy learning!"
   ]
  },
  {
   "cell_type": "code",
   "execution_count": 1,
   "metadata": {},
   "outputs": [],
   "source": [
    "# Run this code:\n",
    "\n",
    "%matplotlib inline\n",
    "\n",
    "import matplotlib.pyplot as plt"
   ]
  },
  {
   "cell_type": "code",
   "execution_count": 2,
   "metadata": {},
   "outputs": [],
   "source": [
    "# Import numpy and pandas:\n",
    "import pandas as pd\n",
    "import numpy as np\n"
   ]
  },
  {
   "cell_type": "markdown",
   "metadata": {},
   "source": [
    "# Challenge 1 - Reading and Standardizing the Data\n",
    "\n",
    "In this challenge we will work with image data and reduce the dimensions of the data to create a 2 dimensional plot. While we have not worked much with image data before, it can be represented as a numpy array where each pixel is assigned a numeric value. In this lesson, we will look at a dataset of cats and a dataset of dogs and see whether reducing them to two dimensions allows us to see if the data is separable. We will start by loading and processing the data. Run the cell below to load the two csv files and convert them into numpy arrays."
   ]
  },
  {
   "cell_type": "code",
   "execution_count": 3,
   "metadata": {},
   "outputs": [],
   "source": [
    "# Run this code\n",
    "\n",
    "cats = np.array(pd.read_csv(\"https://raw.githubusercontent.com/bioramble/pca/master/cat.csv\", header=None))\n",
    "dogs = np.array(pd.read_csv(\"https://raw.githubusercontent.com/bioramble/pca/master/dog.csv\", header=None))"
   ]
  },
  {
   "cell_type": "markdown",
   "metadata": {},
   "source": [
    "Next, we'll examine the shape of both the cats and the dogs arrays. Print out both shapes below."
   ]
  },
  {
   "cell_type": "code",
   "execution_count": 12,
   "metadata": {},
   "outputs": [
    {
     "name": "stdout",
     "output_type": "stream",
     "text": [
      "(4096, 80)\n",
      "(4096, 80)\n"
     ]
    }
   ],
   "source": [
    "# Your code here:\n",
    "print(cats.shape)\n",
    "print(dogs.shape)"
   ]
  },
  {
   "cell_type": "markdown",
   "metadata": {},
   "source": [
    "What this means is that both arrays contain 80 images each (the number of columns). Each image is comprised of 64x64 pixels (so a total of 4096 pixels per image). The images have been flattened such that all 4096 are in a single row.\n",
    "\n",
    "Print out column 0 of the cats array to see what the pixels values look like."
   ]
  },
  {
   "cell_type": "code",
   "execution_count": 20,
   "metadata": {},
   "outputs": [
    {
     "data": {
      "text/plain": [
       "array([[64],\n",
       "       [64],\n",
       "       [64],\n",
       "       ...,\n",
       "       [64],\n",
       "       [64],\n",
       "       [61]], dtype=int64)"
      ]
     },
     "execution_count": 20,
     "metadata": {},
     "output_type": "execute_result"
    }
   ],
   "source": [
    "# Your code here:\n",
    "cats[:,[0]]"
   ]
  },
  {
   "cell_type": "markdown",
   "metadata": {},
   "source": [
    "Using `matplotlib` we can plot a single cat or a single dog. We do this by reshaping the vector back to a 64x64 image and then using the `imshow` function.\n",
    "\n",
    "Run the code below to look at the first dog and the first cat."
   ]
  },
  {
   "cell_type": "code",
   "execution_count": 21,
   "metadata": {},
   "outputs": [
    {
     "data": {
      "text/plain": [
       "<matplotlib.image.AxesImage at 0x1d94807d630>"
      ]
     },
     "execution_count": 21,
     "metadata": {},
     "output_type": "execute_result"
    },
    {
     "data": {
      "image/png": "[encoded data removed]",
      "text/plain": [
       "<Figure size 432x288 with 1 Axes>"
      ]
     },
     "metadata": {
      "needs_background": "light"
     },
     "output_type": "display_data"
    }
   ],
   "source": [
    "# Run this code:\n",
    "\n",
    "fig, ax = plt.subplots()\n",
    "ax.imshow(cats[:,0].reshape(64, 64).T, cmap=plt.cm.bone, interpolation='nearest') "
   ]
  },
  {
   "cell_type": "code",
   "execution_count": 22,
   "metadata": {},
   "outputs": [
    {
     "data": {
      "text/plain": [
       "<matplotlib.image.AxesImage at 0x1d948143da0>"
      ]
     },
     "execution_count": 22,
     "metadata": {},
     "output_type": "execute_result"
    },
    {
     "data": {
      "image/png": "[encoded data removed]",
      "text/plain": [
       "<Figure size 432x288 with 1 Axes>"
      ]
     },
     "metadata": {
      "needs_background": "light"
     },
     "output_type": "display_data"
    }
   ],
   "source": [
    "# Run this code:\n",
    "\n",
    "fig, ax = plt.subplots()\n",
    "ax.imshow(dogs[:,0].reshape(64, 64).T, cmap=plt.cm.bone, interpolation='nearest') "
   ]
  },
  {
   "cell_type": "markdown",
   "metadata": {},
   "source": [
    "Next, we would like to create a standardization function. This function will find the mean and standard deviation of each image. We subtract the mean from each pixel and divide each pixel by the standard deviation. Write the function below.\n",
    "\n",
    "Hint: To find the mean and standard deviation of each image, use `numpy`'s version of mean and stadnard deviation and use `axis=0`."
   ]
  },
  {
   "cell_type": "code",
   "execution_count": 24,
   "metadata": {},
   "outputs": [],
   "source": [
    "def standardize(x):\n",
    "    #This function takes as input a numpy array and returns a stadardized numpy array of the same dimensions.\n",
    "    #Sample input: np.array([[1,2,3],[4,5,6]])\n",
    "    #Sample output: np.array([[-1,-1,-1],[1,1,1]])\n",
    "    \n",
    "    # Your code here:\n",
    "    for element in x:\n",
    "        mean = np.mean(element, axis=0)\n",
    "        std = np.std(element, axis=0)\n",
    "        for i in range(len(element)):\n",
    "            element[i] = (element[i]-mean)/std\n",
    "    return x"
   ]
  },
  {
   "cell_type": "markdown",
   "metadata": {},
   "source": [
    "Now, use the `np.concatenate` function to combine the cats and dogs arrays. Use `axis=1` to combine the two correctly. Make sure to put dogs first."
   ]
  },
  {
   "cell_type": "code",
   "execution_count": 25,
   "metadata": {},
   "outputs": [],
   "source": [
    "# Your code here:\n",
    "cdall=np.concatenate((dogs,cats),axis=1)\n"
   ]
  },
  {
   "cell_type": "markdown",
   "metadata": {},
   "source": [
    "Standardize the concatenated array below."
   ]
  },
  {
   "cell_type": "code",
   "execution_count": 28,
   "metadata": {},
   "outputs": [
    {
     "data": {
      "text/plain": [
       "<matplotlib.image.AxesImage at 0x1d9481b16d8>"
      ]
     },
     "execution_count": 28,
     "metadata": {},
     "output_type": "execute_result"
    },
    {
     "data": {
      "image/png": "[encoded data removed]",
      "text/plain": [
       "<Figure size 432x288 with 1 Axes>"
      ]
     },
     "metadata": {
      "needs_background": "light"
     },
     "output_type": "display_data"
    }
   ],
   "source": [
    "# Your code here:\n",
    "std_dogscats = standardize(cdall)\n",
    "fig, ax = plt.subplots()\n",
    "ax.imshow(standard_cats_dogs[:,0].reshape(64,64).T, cmap=plt.cm.bone, interpolation='nearest')\n"
   ]
  },
  {
   "cell_type": "markdown",
   "metadata": {},
   "source": [
    "# Challenge 2 - Using PCA\n",
    "\n",
    "Now that we have created a standardized matrix of cats and dogs, we'll find the two most important components in the data.\n",
    "\n",
    "Load the `PCA` function from `statsmodels` (read about this function [here](https://www.statsmodels.org/dev/generated/statsmodels.multivariate.pca.PCA.html)) and apply the function to our standarized data. Create a PCA model with two components."
   ]
  },
  {
   "cell_type": "code",
   "execution_count": 34,
   "metadata": {},
   "outputs": [
    {
     "data": {
      "text/plain": [
       "(array([[-2.86358006e-02,  3.07396541e-02],\n",
       "        [-3.07272694e-02,  3.06808032e-02],\n",
       "        [-3.13075257e-02,  3.07048713e-02],\n",
       "        ...,\n",
       "        [-6.64451779e-03,  1.25556129e-02],\n",
       "        [-2.81916218e-03,  1.32281902e-02],\n",
       "        [ 9.32429222e-05,  1.46738191e-02]]),\n",
       " array([[-0.1222258 ,  0.05951279],\n",
       "        [-0.10375782, -0.06034557],\n",
       "        [-0.00311637, -0.0512665 ],\n",
       "        [-0.01153244, -0.10760296],\n",
       "        [-0.07289077,  0.01924693],\n",
       "        [ 0.05243102, -0.15336734],\n",
       "        [-0.06043782, -0.00205359],\n",
       "        [-0.04961446, -0.13012805],\n",
       "        [-0.04086559, -0.09833503],\n",
       "        [-0.10867124,  0.03645941],\n",
       "        [ 0.03323443, -0.10803246],\n",
       "        [-0.07143479, -0.03224508],\n",
       "        [ 0.00746835,  0.02106139],\n",
       "        [-0.01819668, -0.00580441],\n",
       "        [-0.05564322, -0.08200752],\n",
       "        [-0.04923444, -0.04792237],\n",
       "        [-0.07226098, -0.02809562],\n",
       "        [-0.10085088, -0.00468961],\n",
       "        [-0.05612352, -0.04421995],\n",
       "        [-0.01438276, -0.17053851],\n",
       "        [ 0.0649507 , -0.0985647 ],\n",
       "        [ 0.01094612, -0.1332594 ],\n",
       "        [-0.03370526, -0.03622254],\n",
       "        [-0.03019098, -0.15516821],\n",
       "        [-0.09756247, -0.10293976],\n",
       "        [ 0.01256224, -0.17543959],\n",
       "        [ 0.02554211, -0.07790173],\n",
       "        [-0.01498671, -0.06501707],\n",
       "        [-0.03797589, -0.18798067],\n",
       "        [-0.00764184, -0.05696307],\n",
       "        [-0.01248442, -0.03830535],\n",
       "        [-0.00835824, -0.05611466],\n",
       "        [-0.09008509, -0.07656571],\n",
       "        [-0.02702876, -0.11655031],\n",
       "        [ 0.05593693, -0.12972661],\n",
       "        [-0.04600858, -0.02124013],\n",
       "        [ 0.0617033 , -0.11228109],\n",
       "        [-0.00372192, -0.09766885],\n",
       "        [ 0.02690142, -0.13253389],\n",
       "        [-0.08809228, -0.06696553],\n",
       "        [-0.04352409, -0.09721772],\n",
       "        [ 0.00111748,  0.04180949],\n",
       "        [ 0.02597519, -0.11738569],\n",
       "        [-0.01819494, -0.12507745],\n",
       "        [ 0.04455942, -0.03181881],\n",
       "        [-0.09604934,  0.08406405],\n",
       "        [-0.10007889,  0.07401915],\n",
       "        [ 0.00201571,  0.02220374],\n",
       "        [-0.03310701,  0.05997346],\n",
       "        [ 0.07138798, -0.11870346],\n",
       "        [-0.08158652, -0.01409759],\n",
       "        [-0.12845273,  0.1218912 ],\n",
       "        [-0.08524629,  0.12440613],\n",
       "        [ 0.09154986, -0.12121163],\n",
       "        [ 0.08464115,  0.06549054],\n",
       "        [ 0.0501937 ,  0.03200872],\n",
       "        [-0.07006795,  0.00909087],\n",
       "        [-0.07053737,  0.05836369],\n",
       "        [ 0.05466287, -0.0678196 ],\n",
       "        [ 0.00267049, -0.05103787],\n",
       "        [-0.00365855, -0.08173929],\n",
       "        [-0.09814924,  0.07085981],\n",
       "        [-0.12843428,  0.03808915],\n",
       "        [ 0.04338395,  0.04131658],\n",
       "        [ 0.02190308,  0.0034207 ],\n",
       "        [-0.0841471 ,  0.06976576],\n",
       "        [-0.03073331,  0.0708542 ],\n",
       "        [ 0.10740873, -0.03880356],\n",
       "        [ 0.0203082 ,  0.03188088],\n",
       "        [-0.04491332, -0.09193645],\n",
       "        [ 0.02250482,  0.00839227],\n",
       "        [ 0.04386237, -0.10821689],\n",
       "        [-0.07709103, -0.09398295],\n",
       "        [ 0.0756197 , -0.04778455],\n",
       "        [-0.03090605,  0.0851766 ],\n",
       "        [-0.1128165 ,  0.08367897],\n",
       "        [-0.09750214, -0.04605121],\n",
       "        [ 0.03501602, -0.10995134],\n",
       "        [-0.0015831 , -0.11630998],\n",
       "        [-0.10609879,  0.03957124],\n",
       "        [ 0.00247602,  0.14585022],\n",
       "        [ 0.16662428,  0.01821003],\n",
       "        [-0.15685995,  0.02723911],\n",
       "        [-0.12230514, -0.01898806],\n",
       "        [ 0.04602463,  0.15027917],\n",
       "        [ 0.07373094,  0.13403107],\n",
       "        [ 0.13422737,  0.02704173],\n",
       "        [ 0.02742823,  0.05347467],\n",
       "        [ 0.11686212,  0.08303596],\n",
       "        [ 0.04055796,  0.0994307 ],\n",
       "        [-0.00504335,  0.04310021],\n",
       "        [ 0.00314894,  0.0543137 ],\n",
       "        [ 0.14902864,  0.09722729],\n",
       "        [ 0.07517959,  0.11344292],\n",
       "        [-0.09454444,  0.07681973],\n",
       "        [ 0.0601736 ,  0.06147229],\n",
       "        [-0.09261157,  0.036432  ],\n",
       "        [ 0.09575315,  0.07694103],\n",
       "        [-0.09802236,  0.01797671],\n",
       "        [ 0.11847703,  0.0742253 ],\n",
       "        [-0.06730777,  0.05971299],\n",
       "        [ 0.11650405,  0.01459158],\n",
       "        [ 0.09310988, -0.02831506],\n",
       "        [ 0.10204054, -0.10494916],\n",
       "        [-0.1689535 ,  0.01885182],\n",
       "        [ 0.01459456, -0.04640117],\n",
       "        [ 0.09261912,  0.13199492],\n",
       "        [ 0.10709276, -0.03716328],\n",
       "        [-0.07423835,  0.0229418 ],\n",
       "        [ 0.01769079,  0.06669947],\n",
       "        [-0.01433101,  0.06661551],\n",
       "        [-0.03260415,  0.10845676],\n",
       "        [ 0.04578075,  0.11620904],\n",
       "        [-0.17798682,  0.03842759],\n",
       "        [ 0.13937952,  0.02138685],\n",
       "        [ 0.01846694, -0.027056  ],\n",
       "        [-0.14428984,  0.01905126],\n",
       "        [ 0.13369084,  0.07607634],\n",
       "        [ 0.06409264, -0.03223835],\n",
       "        [ 0.01787021,  0.06436274],\n",
       "        [ 0.00296388,  0.07920344],\n",
       "        [ 0.06557201,  0.1210715 ],\n",
       "        [ 0.16509417, -0.00433813],\n",
       "        [ 0.13655629, -0.01480637],\n",
       "        [ 0.16794241, -0.02254482],\n",
       "        [-0.10241439,  0.05910467],\n",
       "        [-0.08450211,  0.01071178],\n",
       "        [-0.05062378,  0.04551113],\n",
       "        [ 0.15316867, -0.00190879],\n",
       "        [ 0.00452035,  0.0703988 ],\n",
       "        [ 0.04370106,  0.11521529],\n",
       "        [ 0.04073014, -0.04291472],\n",
       "        [ 0.11566784,  0.11498978],\n",
       "        [ 0.09977697,  0.13816633],\n",
       "        [-0.07815037,  0.09117999],\n",
       "        [ 0.07644048,  0.10021903],\n",
       "        [ 0.10906274,  0.15132235],\n",
       "        [ 0.03229433,  0.00281246],\n",
       "        [-0.09222713,  0.11658224],\n",
       "        [ 0.09060606, -0.08315397],\n",
       "        [-0.03436417,  0.0405257 ],\n",
       "        [-0.00732584,  0.10193713],\n",
       "        [ 0.12326853,  0.05047294],\n",
       "        [ 0.13291999, -0.00923359],\n",
       "        [-0.05699264,  0.01817285],\n",
       "        [-0.00612226,  0.06445125],\n",
       "        [-0.14782688,  0.01498449],\n",
       "        [ 0.00128254,  0.044224  ],\n",
       "        [-0.0274751 ,  0.04309108],\n",
       "        [-0.09245816,  0.02910927],\n",
       "        [-0.03871252,  0.05537765],\n",
       "        [ 0.11634564, -0.00213393],\n",
       "        [ 0.01602833,  0.11015602],\n",
       "        [-0.01188577,  0.03589781],\n",
       "        [-0.04070348,  0.00990765],\n",
       "        [ 0.04457647, -0.01667624],\n",
       "        [ 0.07698155, -0.06256603],\n",
       "        [ 0.09738939,  0.0262282 ],\n",
       "        [-0.06581046, -0.00532637],\n",
       "        [-0.01032556,  0.04612091]]),\n",
       " array([[ 0.6429392 ,  0.61210785, -0.26527665, ..., -0.21795842,\n",
       "          0.4928044 ,  0.09929138],\n",
       "        [ 0.68948557,  0.6564784 , -0.26433041, ..., -0.23409813,\n",
       "          0.51430413,  0.10130619],\n",
       "        [ 0.70276332,  0.66838426, -0.26424691, ..., -0.23850734,\n",
       "          0.52024143,  0.10202453],\n",
       "        ...,\n",
       "        [-0.01588598,  0.33374547, -0.19189476, ..., -0.0801775 ,\n",
       "          0.2795758 ,  0.00393318],\n",
       "        [-0.09593089,  0.24693646, -0.19612918, ..., -0.04969833,\n",
       "          0.23986654,  0.00247659],\n",
       "        [-0.14846163,  0.17150174, -0.20349046, ..., -0.02490821,\n",
       "          0.2089969 ,  0.00505033]]),\n",
       " array([0.        , 0.12244037, 0.20517931]),\n",
       " array([[13.39293998, 13.39293998, 13.39293998],\n",
       "        [13.29503966, 13.29528851, 13.29404945],\n",
       "        [13.22872134, 13.22921904, 13.22674092]]),\n",
       " array([80242.51868395, 54223.79084962]),\n",
       " array([[-0.1222258 ,  0.05951279],\n",
       "        [-0.10375782, -0.06034557],\n",
       "        [-0.00311637, -0.0512665 ],\n",
       "        [-0.01153244, -0.10760296],\n",
       "        [-0.07289077,  0.01924693],\n",
       "        [ 0.05243102, -0.15336734],\n",
       "        [-0.06043782, -0.00205359],\n",
       "        [-0.04961446, -0.13012805],\n",
       "        [-0.04086559, -0.09833503],\n",
       "        [-0.10867124,  0.03645941],\n",
       "        [ 0.03323443, -0.10803246],\n",
       "        [-0.07143479, -0.03224508],\n",
       "        [ 0.00746835,  0.02106139],\n",
       "        [-0.01819668, -0.00580441],\n",
       "        [-0.05564322, -0.08200752],\n",
       "        [-0.04923444, -0.04792237],\n",
       "        [-0.07226098, -0.02809562],\n",
       "        [-0.10085088, -0.00468961],\n",
       "        [-0.05612352, -0.04421995],\n",
       "        [-0.01438276, -0.17053851],\n",
       "        [ 0.0649507 , -0.0985647 ],\n",
       "        [ 0.01094612, -0.1332594 ],\n",
       "        [-0.03370526, -0.03622254],\n",
       "        [-0.03019098, -0.15516821],\n",
       "        [-0.09756247, -0.10293976],\n",
       "        [ 0.01256224, -0.17543959],\n",
       "        [ 0.02554211, -0.07790173],\n",
       "        [-0.01498671, -0.06501707],\n",
       "        [-0.03797589, -0.18798067],\n",
       "        [-0.00764184, -0.05696307],\n",
       "        [-0.01248442, -0.03830535],\n",
       "        [-0.00835824, -0.05611466],\n",
       "        [-0.09008509, -0.07656571],\n",
       "        [-0.02702876, -0.11655031],\n",
       "        [ 0.05593693, -0.12972661],\n",
       "        [-0.04600858, -0.02124013],\n",
       "        [ 0.0617033 , -0.11228109],\n",
       "        [-0.00372192, -0.09766885],\n",
       "        [ 0.02690142, -0.13253389],\n",
       "        [-0.08809228, -0.06696553],\n",
       "        [-0.04352409, -0.09721772],\n",
       "        [ 0.00111748,  0.04180949],\n",
       "        [ 0.02597519, -0.11738569],\n",
       "        [-0.01819494, -0.12507745],\n",
       "        [ 0.04455942, -0.03181881],\n",
       "        [-0.09604934,  0.08406405],\n",
       "        [-0.10007889,  0.07401915],\n",
       "        [ 0.00201571,  0.02220374],\n",
       "        [-0.03310701,  0.05997346],\n",
       "        [ 0.07138798, -0.11870346],\n",
       "        [-0.08158652, -0.01409759],\n",
       "        [-0.12845273,  0.1218912 ],\n",
       "        [-0.08524629,  0.12440613],\n",
       "        [ 0.09154986, -0.12121163],\n",
       "        [ 0.08464115,  0.06549054],\n",
       "        [ 0.0501937 ,  0.03200872],\n",
       "        [-0.07006795,  0.00909087],\n",
       "        [-0.07053737,  0.05836369],\n",
       "        [ 0.05466287, -0.0678196 ],\n",
       "        [ 0.00267049, -0.05103787],\n",
       "        [-0.00365855, -0.08173929],\n",
       "        [-0.09814924,  0.07085981],\n",
       "        [-0.12843428,  0.03808915],\n",
       "        [ 0.04338395,  0.04131658],\n",
       "        [ 0.02190308,  0.0034207 ],\n",
       "        [-0.0841471 ,  0.06976576],\n",
       "        [-0.03073331,  0.0708542 ],\n",
       "        [ 0.10740873, -0.03880356],\n",
       "        [ 0.0203082 ,  0.03188088],\n",
       "        [-0.04491332, -0.09193645],\n",
       "        [ 0.02250482,  0.00839227],\n",
       "        [ 0.04386237, -0.10821689],\n",
       "        [-0.07709103, -0.09398295],\n",
       "        [ 0.0756197 , -0.04778455],\n",
       "        [-0.03090605,  0.0851766 ],\n",
       "        [-0.1128165 ,  0.08367897],\n",
       "        [-0.09750214, -0.04605121],\n",
       "        [ 0.03501602, -0.10995134],\n",
       "        [-0.0015831 , -0.11630998],\n",
       "        [-0.10609879,  0.03957124],\n",
       "        [ 0.00247602,  0.14585022],\n",
       "        [ 0.16662428,  0.01821003],\n",
       "        [-0.15685995,  0.02723911],\n",
       "        [-0.12230514, -0.01898806],\n",
       "        [ 0.04602463,  0.15027917],\n",
       "        [ 0.07373094,  0.13403107],\n",
       "        [ 0.13422737,  0.02704173],\n",
       "        [ 0.02742823,  0.05347467],\n",
       "        [ 0.11686212,  0.08303596],\n",
       "        [ 0.04055796,  0.0994307 ],\n",
       "        [-0.00504335,  0.04310021],\n",
       "        [ 0.00314894,  0.0543137 ],\n",
       "        [ 0.14902864,  0.09722729],\n",
       "        [ 0.07517959,  0.11344292],\n",
       "        [-0.09454444,  0.07681973],\n",
       "        [ 0.0601736 ,  0.06147229],\n",
       "        [-0.09261157,  0.036432  ],\n",
       "        [ 0.09575315,  0.07694103],\n",
       "        [-0.09802236,  0.01797671],\n",
       "        [ 0.11847703,  0.0742253 ],\n",
       "        [-0.06730777,  0.05971299],\n",
       "        [ 0.11650405,  0.01459158],\n",
       "        [ 0.09310988, -0.02831506],\n",
       "        [ 0.10204054, -0.10494916],\n",
       "        [-0.1689535 ,  0.01885182],\n",
       "        [ 0.01459456, -0.04640117],\n",
       "        [ 0.09261912,  0.13199492],\n",
       "        [ 0.10709276, -0.03716328],\n",
       "        [-0.07423835,  0.0229418 ],\n",
       "        [ 0.01769079,  0.06669947],\n",
       "        [-0.01433101,  0.06661551],\n",
       "        [-0.03260415,  0.10845676],\n",
       "        [ 0.04578075,  0.11620904],\n",
       "        [-0.17798682,  0.03842759],\n",
       "        [ 0.13937952,  0.02138685],\n",
       "        [ 0.01846694, -0.027056  ],\n",
       "        [-0.14428984,  0.01905126],\n",
       "        [ 0.13369084,  0.07607634],\n",
       "        [ 0.06409264, -0.03223835],\n",
       "        [ 0.01787021,  0.06436274],\n",
       "        [ 0.00296388,  0.07920344],\n",
       "        [ 0.06557201,  0.1210715 ],\n",
       "        [ 0.16509417, -0.00433813],\n",
       "        [ 0.13655629, -0.01480637],\n",
       "        [ 0.16794241, -0.02254482],\n",
       "        [-0.10241439,  0.05910467],\n",
       "        [-0.08450211,  0.01071178],\n",
       "        [-0.05062378,  0.04551113],\n",
       "        [ 0.15316867, -0.00190879],\n",
       "        [ 0.00452035,  0.0703988 ],\n",
       "        [ 0.04370106,  0.11521529],\n",
       "        [ 0.04073014, -0.04291472],\n",
       "        [ 0.11566784,  0.11498978],\n",
       "        [ 0.09977697,  0.13816633],\n",
       "        [-0.07815037,  0.09117999],\n",
       "        [ 0.07644048,  0.10021903],\n",
       "        [ 0.10906274,  0.15132235],\n",
       "        [ 0.03229433,  0.00281246],\n",
       "        [-0.09222713,  0.11658224],\n",
       "        [ 0.09060606, -0.08315397],\n",
       "        [-0.03436417,  0.0405257 ],\n",
       "        [-0.00732584,  0.10193713],\n",
       "        [ 0.12326853,  0.05047294],\n",
       "        [ 0.13291999, -0.00923359],\n",
       "        [-0.05699264,  0.01817285],\n",
       "        [-0.00612226,  0.06445125],\n",
       "        [-0.14782688,  0.01498449],\n",
       "        [ 0.00128254,  0.044224  ],\n",
       "        [-0.0274751 ,  0.04309108],\n",
       "        [-0.09245816,  0.02910927],\n",
       "        [-0.03871252,  0.05537765],\n",
       "        [ 0.11634564, -0.00213393],\n",
       "        [ 0.01602833,  0.11015602],\n",
       "        [-0.01188577,  0.03589781],\n",
       "        [-0.04070348,  0.00990765],\n",
       "        [ 0.04457647, -0.01667624],\n",
       "        [ 0.07698155, -0.06256603],\n",
       "        [ 0.09738939,  0.0262282 ],\n",
       "        [-0.06581046, -0.00532637],\n",
       "        [-0.01032556,  0.04612091]]))"
      ]
     },
     "execution_count": 34,
     "metadata": {},
     "output_type": "execute_result"
    }
   ],
   "source": [
    "# Your code here:\n",
    "from statsmodels.multivariate.pca import PCA, pca\n",
    "pets_pca = pca(standard_cats_dogs, ncomp=2)\n",
    "\n",
    "pets_pca\n",
    "\n",
    "\n"
   ]
  },
  {
   "cell_type": "markdown",
   "metadata": {},
   "source": [
    "Use `numpy` to find to transpose the standardized pet array. This will help us compute the projection."
   ]
  },
  {
   "cell_type": "code",
   "execution_count": 33,
   "metadata": {},
   "outputs": [
    {
     "name": "stdout",
     "output_type": "stream",
     "text": [
      "[[1 1 1 ... 0 0 0]\n",
      " [0 0 0 ... 0 0 0]\n",
      " [0 0 0 ... 0 0 0]\n",
      " ...\n",
      " [0 0 0 ... 0 0 0]\n",
      " [1 1 1 ... 1 1 0]\n",
      " [0 0 0 ... 0 0 0]]\n"
     ]
    }
   ],
   "source": [
    "# Your code here:\n",
    "pets = standard_cats_dogs.T\n",
    "\n",
    "print(pets)\n",
    "\n"
   ]
  },
  {
   "cell_type": "markdown",
   "metadata": {},
   "source": [
    "Find the dot product of the transposed standardized pet matrix and the `factors` of the `PCA` model found above. This will be the projection onto 2 dimensions. This means that each cat and dog image will now only have two columns instead of 4096."
   ]
  },
  {
   "cell_type": "code",
   "execution_count": 38,
   "metadata": {
    "scrolled": true
   },
   "outputs": [
    {
     "data": {
      "text/plain": [
       "array([[-22.50886118,   9.00935294],\n",
       "       [-20.9334007 , -10.00822371],\n",
       "       [ -0.32772335,  -4.43185   ],\n",
       "       [ -1.39206377, -10.67713814],\n",
       "       [-10.11070503,   2.19463936],\n",
       "       [ 10.21874979, -24.57168747],\n",
       "       [ -8.64230005,  -0.24139471],\n",
       "       [ -8.55305158, -18.44065845],\n",
       "       [ -5.20075241, -10.2874864 ],\n",
       "       [-19.46528399,   5.36844341],\n",
       "       [  4.67891798, -12.50270896],\n",
       "       [ -7.781951  ,  -2.8875855 ],\n",
       "       [  1.30156922,   3.01732765],\n",
       "       [ -2.52162732,  -0.66120973],\n",
       "       [ -9.79114916, -11.86226796],\n",
       "       [ -4.59926076,  -3.68001813],\n",
       "       [-11.25532472,  -3.5973725 ],\n",
       "       [-13.09967291,  -0.50073776],\n",
       "       [ -6.24220959,  -4.04300619],\n",
       "       [ -2.1510144 , -20.96603197],\n",
       "       [  9.8962332 , -12.34525734],\n",
       "       [  2.23495346, -22.36653121],\n",
       "       [ -5.72366061,  -5.05647326],\n",
       "       [ -6.31054272, -26.66152487],\n",
       "       [-16.16307559, -14.01900045],\n",
       "       [  2.74461997, -31.50906494],\n",
       "       [  3.94403429,  -9.88834743],\n",
       "       [ -1.8410241 ,  -6.56558341],\n",
       "       [ -7.3374659 , -29.85684726],\n",
       "       [ -1.28467134,  -7.87191216],\n",
       "       [ -1.78505387,  -4.50230637],\n",
       "       [ -1.36768417,  -7.54814396],\n",
       "       [-15.01478732, -10.49042778],\n",
       "       [ -5.16785749, -18.31852673],\n",
       "       [ 14.44591151, -27.54026313],\n",
       "       [ -7.61662506,  -2.89050424],\n",
       "       [  6.72522517, -10.05999471],\n",
       "       [ -0.65310953, -14.0886059 ],\n",
       "       [  5.64637819, -22.86727149],\n",
       "       [-15.69152568,  -9.80553532],\n",
       "       [ -6.38195204, -11.71822598],\n",
       "       [  0.07893037,   2.42757616],\n",
       "       [  3.97168718, -14.75448629],\n",
       "       [ -3.08791957, -17.44966693],\n",
       "       [  7.38013416,  -4.33212846],\n",
       "       [-22.44115898,  16.14558755],\n",
       "       [-23.85789903,  14.50529176],\n",
       "       [  0.38634516,   3.49837699],\n",
       "       [ -7.04386465,  10.48921034],\n",
       "       [ 13.82792444, -18.901138  ],\n",
       "       [-14.50735138,  -2.06066488],\n",
       "       [-27.16518352,  21.19016421],\n",
       "       [-11.9419181 ,  14.32626719],\n",
       "       [ 12.64364717, -13.76105197],\n",
       "       [  8.22430549,   5.23105046],\n",
       "       [ 10.46321622,   5.48500395],\n",
       "       [ -9.55028928,   1.01857987],\n",
       "       [ -7.86140424,   5.34707496],\n",
       "       [ 11.30816375, -11.5331388 ],\n",
       "       [  0.32441933,  -5.09684254],\n",
       "       [ -0.50525605,  -9.27951955],\n",
       "       [-12.85230114,   7.62757677],\n",
       "       [-22.22664677,   5.41859744],\n",
       "       [  6.01447157,   4.70853158],\n",
       "       [  5.70185198,   0.73201242],\n",
       "       [-14.97327014,  10.20498788],\n",
       "       [ -7.89601193,  14.96430889],\n",
       "       [ 22.87872467,  -6.79448366],\n",
       "       [  5.15106118,   6.6473462 ],\n",
       "       [ -7.49934185, -12.61910051],\n",
       "       [  4.25879432,   1.30551885],\n",
       "       [  7.41584966, -15.04030126],\n",
       "       [-14.57388211, -14.6053898 ],\n",
       "       [ 11.52857725,  -5.98854012],\n",
       "       [ -4.480349  ,  10.150358  ],\n",
       "       [-14.18491975,   8.64894755],\n",
       "       [-17.28510092,  -6.71106549],\n",
       "       [  8.83068641, -22.79401552],\n",
       "       [ -0.24282243, -14.66528737],\n",
       "       [-21.59372279,   6.62047977],\n",
       "       [  0.46221194,  22.38133834],\n",
       "       [ 23.07682004,   2.07319934],\n",
       "       [-43.17049392,   6.16255149],\n",
       "       [-18.19487081,  -2.32208227],\n",
       "       [  8.40125185,  22.54992857],\n",
       "       [ 13.8262459 ,  20.66106309],\n",
       "       [ 21.19990093,   3.51091144],\n",
       "       [  3.73589812,   5.98739677],\n",
       "       [ 23.33532536,  13.63009821],\n",
       "       [  8.61237973,  17.3564258 ],\n",
       "       [ -0.67559866,   4.74615704],\n",
       "       [  0.6074263 ,   8.61254292],\n",
       "       [ 27.7851551 ,  14.90129255],\n",
       "       [ 13.07031951,  16.212736  ],\n",
       "       [-13.45565869,   8.9874071 ],\n",
       "       [  3.98605945,   3.34741733],\n",
       "       [-11.31515713,   3.65907207],\n",
       "       [ 14.63313884,   9.66573925],\n",
       "       [-14.19144642,   2.13946142],\n",
       "       [ 16.89798862,   8.70252916],\n",
       "       [-10.96505062,   7.99662906],\n",
       "       [ 24.77368849,   2.5506142 ],\n",
       "       [ 16.58007487,  -4.14477371],\n",
       "       [ 16.54991498, -13.99247816],\n",
       "       [-35.38055214,   3.24521433],\n",
       "       [  2.11598748,  -5.53023659],\n",
       "       [ 14.42620393,  16.90056794],\n",
       "       [ 20.12343627,  -5.74048747],\n",
       "       [ -9.99516951,   2.5391126 ],\n",
       "       [  2.15708901,   6.68552911],\n",
       "       [ -1.98223759,   7.57437941],\n",
       "       [ -6.78994946,  18.567051  ],\n",
       "       [  8.01191282,  16.71806186],\n",
       "       [-43.98577917,   7.80656989],\n",
       "       [ 13.90421403,   1.75382825],\n",
       "       [  3.15709575,  -3.8023246 ],\n",
       "       [-28.94415885,   3.14153166],\n",
       "       [ 21.25804614,   9.94406464],\n",
       "       [ 11.08808625,  -4.58473113],\n",
       "       [  2.86153178,   8.47219585],\n",
       "       [  0.41644664,   9.14819503],\n",
       "       [ 15.25296977,  23.15103858],\n",
       "       [ 30.00188975,  -0.64805599],\n",
       "       [ 21.3203302 ,  -1.90030541],\n",
       "       [ 37.3766088 ,  -4.12457179],\n",
       "       [-16.83319786,   7.98583111],\n",
       "       [-13.01348352,   1.35606416],\n",
       "       [-14.6394895 ,  10.818863  ],\n",
       "       [ 28.14132817,  -0.28828695],\n",
       "       [  0.42693956,   5.46578591],\n",
       "       [  8.21542374,  17.80494833],\n",
       "       [  4.44195461,  -3.8473095 ],\n",
       "       [ 16.62315802,  13.58478614],\n",
       "       [ 15.64922045,  17.8138301 ],\n",
       "       [-10.4319238 ,  10.00519535],\n",
       "       [  7.21097532,   7.77165343],\n",
       "       [ 25.86713749,  29.50310444],\n",
       "       [  3.78375141,   0.27087895],\n",
       "       [-11.47617985,  11.9251455 ],\n",
       "       [ 14.18995564, -10.70531445],\n",
       "       [ -3.26160599,   3.16190443],\n",
       "       [ -0.82200585,   9.40248389],\n",
       "       [ 19.62721483,   6.60629125],\n",
       "       [ 22.05428543,  -1.25940676],\n",
       "       [-10.32998135,   2.70767467],\n",
       "       [ -0.98395185,   8.51502104],\n",
       "       [-28.33925778,   2.36140057],\n",
       "       [  0.20635506,   5.84916252],\n",
       "       [ -1.47147409,   1.89711391],\n",
       "       [-17.89453198,   4.6312585 ],\n",
       "       [ -4.26773469,   5.01849107],\n",
       "       [ 17.3669487 ,  -0.26184567],\n",
       "       [  1.93296589,  10.92035747],\n",
       "       [ -1.30234442,   3.23339716],\n",
       "       [ -7.55794717,   1.51229234],\n",
       "       [  4.11901028,  -1.26671253],\n",
       "       [ 11.66909824,  -7.79618144],\n",
       "       [  7.66915344,   1.69784087],\n",
       "       [-10.26051731,  -0.68265014],\n",
       "       [ -1.074348  ,   3.94477237]])"
      ]
     },
     "execution_count": 38,
     "metadata": {},
     "output_type": "execute_result"
    }
   ],
   "source": [
    "# Your code here:\n",
    "\n",
    "pets_model = np.dot(pets,pets_pca[0])\n",
    "pets_model.shape\n",
    "pets_model"
   ]
  },
  {
   "cell_type": "markdown",
   "metadata": {},
   "source": [
    "# Challenge 3 - Plotting the Data\n",
    "\n",
    "Now that we have reduced our cats and dogs arrays, we can easily plot the data in a way that the human eye can understand. We can look at this plot to see whether there are differences between the cat and dog images. \n",
    "\n",
    "In the cell below, turn the two dimensional projection into a pandas dataframe and name the columns `pc1`, and `pc2` respectively."
   ]
  },
  {
   "cell_type": "code",
   "execution_count": 39,
   "metadata": {},
   "outputs": [
    {
     "data": {
      "text/html": [
       "<div>\n",
       "<style scoped>\n",
       "    .dataframe tbody tr th:only-of-type {\n",
       "        vertical-align: middle;\n",
       "    }\n",
       "\n",
       "    .dataframe tbody tr th {\n",
       "        vertical-align: top;\n",
       "    }\n",
       "\n",
       "    .dataframe thead th {\n",
       "        text-align: right;\n",
       "    }\n",
       "</style>\n",
       "<table border=\"1\" class=\"dataframe\">\n",
       "  <thead>\n",
       "    <tr style=\"text-align: right;\">\n",
       "      <th></th>\n",
       "      <th>pc1</th>\n",
       "      <th>pc2</th>\n",
       "    </tr>\n",
       "  </thead>\n",
       "  <tbody>\n",
       "    <tr>\n",
       "      <th>0</th>\n",
       "      <td>-22.508861</td>\n",
       "      <td>9.009353</td>\n",
       "    </tr>\n",
       "    <tr>\n",
       "      <th>1</th>\n",
       "      <td>-20.933401</td>\n",
       "      <td>-10.008224</td>\n",
       "    </tr>\n",
       "    <tr>\n",
       "      <th>2</th>\n",
       "      <td>-0.327723</td>\n",
       "      <td>-4.431850</td>\n",
       "    </tr>\n",
       "    <tr>\n",
       "      <th>3</th>\n",
       "      <td>-1.392064</td>\n",
       "      <td>-10.677138</td>\n",
       "    </tr>\n",
       "    <tr>\n",
       "      <th>4</th>\n",
       "      <td>-10.110705</td>\n",
       "      <td>2.194639</td>\n",
       "    </tr>\n",
       "  </tbody>\n",
       "</table>\n",
       "</div>"
      ],
      "text/plain": [
       "         pc1        pc2\n",
       "0 -22.508861   9.009353\n",
       "1 -20.933401 -10.008224\n",
       "2  -0.327723  -4.431850\n",
       "3  -1.392064 -10.677138\n",
       "4 -10.110705   2.194639"
      ]
     },
     "execution_count": 39,
     "metadata": {},
     "output_type": "execute_result"
    }
   ],
   "source": [
    "# Your code here:\n",
    "pets_df = pd.DataFrame(pets_model, columns=['pc1','pc2'])\n",
    "pets_df.head()\n"
   ]
  },
  {
   "cell_type": "markdown",
   "metadata": {},
   "source": [
    "Create a labels list. This list will be of size 160. The first 80 elements in the list will be the word `blue`, and the last 80 elements will be `red`. This will ensure that all dog observations will be colored in blue and all cats will be colored in red. Name this list `colors`."
   ]
  },
  {
   "cell_type": "code",
   "execution_count": 40,
   "metadata": {},
   "outputs": [],
   "source": [
    "# Your code here:\n",
    "\n",
    "colors = ['blue']*80 + ['red']*80\n"
   ]
  },
  {
   "cell_type": "markdown",
   "metadata": {},
   "source": [
    "Create a scatter plot of `pc1` and `pc2` below. Use the `colors` list above to color the observations by setting `c=colors`."
   ]
  },
  {
   "cell_type": "code",
   "execution_count": 41,
   "metadata": {},
   "outputs": [
    {
     "data": {
      "text/plain": [
       "<matplotlib.axes._subplots.AxesSubplot at 0x1d94876cc18>"
      ]
     },
     "execution_count": 41,
     "metadata": {},
     "output_type": "execute_result"
    },
    {
     "data": {
      "image/png": "[encoded data removed]",
      "text/plain": [
       "<Figure size 432x288 with 1 Axes>"
      ]
     },
     "metadata": {
      "needs_background": "light"
     },
     "output_type": "display_data"
    }
   ],
   "source": [
    "# Your code here:\n",
    "pets_df.plot.scatter('pc1','pc2',c=colors)\n",
    "\n",
    "\n",
    "\n"
   ]
  },
  {
   "cell_type": "markdown",
   "metadata": {},
   "source": [
    "Do you see a clear separation between cats and dogs? Write your answer below."
   ]
  },
  {
   "cell_type": "code",
   "execution_count": null,
   "metadata": {},
   "outputs": [],
   "source": [
    "# Your conclusions here:\n",
    "#creo que no habría buen match con las etiquetas adecuadas, los dos grupos están demasiado cerca.\n"
   ]
  },
  {
   "cell_type": "code",
   "execution_count": null,
   "metadata": {},
   "outputs": [],
   "source": []
  }
 ],
 "metadata": {
  "kernelspec": {
   "display_name": "Python 3",
   "language": "python",
   "name": "python3"
  },
  "language_info": {
   "codemirror_mode": {
    "name": "ipython",
    "version": 3
   },
   "file_extension": ".py",
   "mimetype": "text/x-python",
   "name": "python",
   "nbconvert_exporter": "python",
   "pygments_lexer": "ipython3",
   "version": "3.7.3"
  }
 },
 "nbformat": 4,
 "nbformat_minor": 2
}
