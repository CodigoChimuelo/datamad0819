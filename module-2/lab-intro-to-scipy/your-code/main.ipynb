{
 "cells": [
  {
   "cell_type": "markdown",
   "metadata": {},
   "source": [
    "# Before your start:\n",
    "- Read the README.md file\n",
    "- Comment as much as you can and use the resources (README.md file)\n",
    "- Happy learning!"
   ]
  },
  {
   "cell_type": "code",
   "execution_count": 27,
   "metadata": {},
   "outputs": [],
   "source": [
    "#import numpy and pandas\n",
    "import pandas as pd\n",
    "import numpy as np\n",
    "\n",
    "#..............."
   ]
  },
  {
   "cell_type": "markdown",
   "metadata": {},
   "source": [
    "# Challenge 1 - The `stats` Submodule\n",
    "\n",
    "This submodule contains statistical functions for conducting hypothesis tests, producing various distributions and other useful tools. Let's examine this submodule using the KickStarter dataset. We will load the dataset below."
   ]
  },
  {
   "cell_type": "code",
   "execution_count": 28,
   "metadata": {},
   "outputs": [],
   "source": [
    "# Run this code:\n",
    "\n",
    "kickstarter = pd.read_csv('../ks-projects-201801.csv')"
   ]
  },
  {
   "cell_type": "markdown",
   "metadata": {},
   "source": [
    "Now print the `head` function to examine the dataset."
   ]
  },
  {
   "cell_type": "code",
   "execution_count": 29,
   "metadata": {},
   "outputs": [
    {
     "name": "stdout",
     "output_type": "stream",
     "text": [
      "           ID                                               name  \\\n",
      "0  1000002330                    The Songs of Adelaide & Abullah   \n",
      "1  1000003930      Greeting From Earth: ZGAC Arts Capsule For ET   \n",
      "2  1000004038                                     Where is Hank?   \n",
      "3  1000007540  ToshiCapital Rekordz Needs Help to Complete Album   \n",
      "4  1000011046  Community Film Project: The Art of Neighborhoo...   \n",
      "5  1000014025                               Monarch Espresso Bar   \n",
      "6  1000023410  Support Solar Roasted Coffee & Green Energy!  ...   \n",
      "7  1000030581  Chaser Strips. Our Strips make Shots their B*tch!   \n",
      "8  1000034518  SPIN - Premium Retractable In-Ear Headphones w...   \n",
      "9   100004195  STUDIO IN THE SKY - A Documentary Feature Film...   \n",
      "\n",
      "         category main_category currency    deadline      goal  \\\n",
      "0          Poetry    Publishing      GBP  2015-10-09    1000.0   \n",
      "1  Narrative Film  Film & Video      USD  2017-11-01   30000.0   \n",
      "2  Narrative Film  Film & Video      USD  2013-02-26   45000.0   \n",
      "3           Music         Music      USD  2012-04-16    5000.0   \n",
      "4    Film & Video  Film & Video      USD  2015-08-29   19500.0   \n",
      "5     Restaurants          Food      USD  2016-04-01   50000.0   \n",
      "6            Food          Food      USD  2014-12-21    1000.0   \n",
      "7          Drinks          Food      USD  2016-03-17   25000.0   \n",
      "8  Product Design        Design      USD  2014-05-29  125000.0   \n",
      "9     Documentary  Film & Video      USD  2014-08-10   65000.0   \n",
      "\n",
      "              launched   pledged       state  backers country  usd pledged  \\\n",
      "0  2015-08-11 12:12:28      0.00      failed        0      GB         0.00   \n",
      "1  2017-09-02 04:43:57   2421.00      failed       15      US       100.00   \n",
      "2  2013-01-12 00:20:50    220.00      failed        3      US       220.00   \n",
      "3  2012-03-17 03:24:11      1.00      failed        1      US         1.00   \n",
      "4  2015-07-04 08:35:03   1283.00    canceled       14      US      1283.00   \n",
      "5  2016-02-26 13:38:27  52375.00  successful      224      US     52375.00   \n",
      "6  2014-12-01 18:30:44   1205.00  successful       16      US      1205.00   \n",
      "7  2016-02-01 20:05:12    453.00      failed       40      US       453.00   \n",
      "8  2014-04-24 18:14:43   8233.00    canceled       58      US      8233.00   \n",
      "9  2014-07-11 21:55:48   6240.57    canceled       43      US      6240.57   \n",
      "\n",
      "   usd_pledged_real  usd_goal_real  \n",
      "0              0.00        1533.95  \n",
      "1           2421.00       30000.00  \n",
      "2            220.00       45000.00  \n",
      "3              1.00        5000.00  \n",
      "4           1283.00       19500.00  \n",
      "5          52375.00       50000.00  \n",
      "6           1205.00        1000.00  \n",
      "7            453.00       25000.00  \n",
      "8           8233.00      125000.00  \n",
      "9           6240.57       65000.00  \n"
     ]
    },
    {
     "data": {
      "text/plain": [
       "(378661, 15)"
      ]
     },
     "execution_count": 29,
     "metadata": {},
     "output_type": "execute_result"
    }
   ],
   "source": [
    "# Your code here:\n",
    "print(kickstarter.head(10))\n",
    "kickstarter.shape\n"
   ]
  },
  {
   "cell_type": "markdown",
   "metadata": {},
   "source": [
    "Import the `mode` function from `scipy.stats` and find the mode of the `country` and `currency` column."
   ]
  },
  {
   "cell_type": "code",
   "execution_count": 30,
   "metadata": {},
   "outputs": [
    {
     "name": "stdout",
     "output_type": "stream",
     "text": [
      "$ Country mode:  ModeResult(mode=array(['US'], dtype=object), count=array([292627]))\n",
      "$ Currency mode:  ModeResult(mode=array(['USD'], dtype=object), count=array([295365]))\n"
     ]
    }
   ],
   "source": [
    "# Your code here:\n",
    "from scipy import stats\n",
    "from scipy.stats import mode\n",
    "\n",
    "countrymode= stats.mode(kickstarter['country'])\n",
    "print('$ Country mode: ', countrymode)\n",
    "\n",
    "currencymode= stats.mode(kickstarter['currency'])\n",
    "print('$ Currency mode: ', currencymode)\n",
    "\n"
   ]
  },
  {
   "cell_type": "markdown",
   "metadata": {},
   "source": [
    "The trimmed mean is a function that computes the mean of the data with observations removed. The most common way to compute a trimmed mean is by specifying a percentage and then removing elements from both ends. However, we can also specify a threshold on both ends. The goal of this function is to create a more robust method of computing the mean that is less influenced by outliers. SciPy contains a function called `tmean` for computing the trimmed mean. \n",
    "\n",
    "In the cell below, import the `tmean` function and then find the 75th percentile of the `goal` column. Compute the trimmed mean between 0 and the 75th percentile of the column. Read more about the `tmean` function [here](https://docs.scipy.org/doc/scipy/reference/generated/scipy.stats.tmean.html#scipy.stats.tmean)."
   ]
  },
  {
   "cell_type": "code",
   "execution_count": 32,
   "metadata": {},
   "outputs": [
    {
     "name": "stdout",
     "output_type": "stream",
     "text": [
      "$ Goal percent 75 on dataset:  16000.0\n",
      "$ Goal Mean on dataset:  4874.150287106898\n"
     ]
    }
   ],
   "source": [
    "# Your code here:\n",
    "from scipy.stats import tmean\n",
    "percent75= np.percentile(kickstarter['goal'],75)\n",
    "goal_tmean = stats.tmean(kickstarter['goal'], (0, percent75))\n",
    "print('$ Goal percent 75 on dataset: ', percent75)\n",
    "print('$ Goal Mean on dataset: ', goal_tmean)"
   ]
  },
  {
   "cell_type": "markdown",
   "metadata": {},
   "source": [
    "#### SciPy contains various statistical tests. One of the tests is Fisher's exact test. This test is used for contingency tables. \n",
    "\n",
    "The test originates from the \"Lady Tasting Tea\" experiment. In 1935, Fisher published the results of the experiment in his book. The experiment was based on a claim by Muriel Bristol that she can taste whether tea or milk was first poured into the cup. Fisher devised this test to disprove her claim. The null hypothesis is that the treatments do not affect outcomes, while the alternative hypothesis is that the treatment does affect outcome. To read more about Fisher's exact test, click [here](https://en.wikipedia.org/wiki/Fisher%27s_exact_test).\n",
    "\n",
    "Let's perform Fisher's exact test on our KickStarter data. We intend to test the hypothesis that the choice of currency has an impact on meeting the pledge goal. We'll start by creating two derived columns in our dataframe. The first will contain 1 if the amount of money in `usd_pledged_real` is greater than the amount of money in `usd_goal_real`. We can compute this by using the `np.where` function. If the amount in one column is greater than the other, enter a value of 1, otherwise enter a value of zero. Add this column to the dataframe and name it `goal_met`."
   ]
  },
  {
   "cell_type": "code",
   "execution_count": 35,
   "metadata": {},
   "outputs": [
    {
     "name": "stdout",
     "output_type": "stream",
     "text": [
      "           ID                                               name  \\\n",
      "0  1000002330                    The Songs of Adelaide & Abullah   \n",
      "1  1000003930      Greeting From Earth: ZGAC Arts Capsule For ET   \n",
      "2  1000004038                                     Where is Hank?   \n",
      "3  1000007540  ToshiCapital Rekordz Needs Help to Complete Album   \n",
      "4  1000011046  Community Film Project: The Art of Neighborhoo...   \n",
      "\n",
      "         category main_category currency    deadline     goal  \\\n",
      "0          Poetry    Publishing      GBP  2015-10-09   1000.0   \n",
      "1  Narrative Film  Film & Video      USD  2017-11-01  30000.0   \n",
      "2  Narrative Film  Film & Video      USD  2013-02-26  45000.0   \n",
      "3           Music         Music      USD  2012-04-16   5000.0   \n",
      "4    Film & Video  Film & Video      USD  2015-08-29  19500.0   \n",
      "\n",
      "              launched  pledged     state  backers country  usd pledged  \\\n",
      "0  2015-08-11 12:12:28      0.0    failed        0      GB          0.0   \n",
      "1  2017-09-02 04:43:57   2421.0    failed       15      US        100.0   \n",
      "2  2013-01-12 00:20:50    220.0    failed        3      US        220.0   \n",
      "3  2012-03-17 03:24:11      1.0    failed        1      US          1.0   \n",
      "4  2015-07-04 08:35:03   1283.0  canceled       14      US       1283.0   \n",
      "\n",
      "   usd_pledged_real  usd_goal_real  goal_met  \n",
      "0               0.0        1533.95         0  \n",
      "1            2421.0       30000.00         0  \n",
      "2             220.0       45000.00         0  \n",
      "3               1.0        5000.00         0  \n",
      "4            1283.0       19500.00         0  \n"
     ]
    }
   ],
   "source": [
    "# Your code here:\n",
    "goal_met_ext= np.where(kickstarter['usd_pledged_real'] > kickstarter['usd_goal_real'],1,0)\n",
    "kickstarter['goal_met'] = goal_met_ext\n",
    "\n",
    "#print(goal_met_ext)\n",
    "#df['My new column'] = 'default value'\n",
    "#kickstarter=kickstarter.join(pd.DataFrame(goal_met_ext), rsuffix='_')\n",
    "\n",
    "print(kickstarter.head(5))"
   ]
  },
  {
   "cell_type": "markdown",
   "metadata": {},
   "source": [
    "Next, create a column that checks whether the currency of the project is in US Dollars. Create a column called `usd` using the `np.where` function where if the currency is US Dollars, assign a value of 1 to the row and 0 otherwise."
   ]
  },
  {
   "cell_type": "code",
   "execution_count": 36,
   "metadata": {},
   "outputs": [
    {
     "name": "stdout",
     "output_type": "stream",
     "text": [
      "           ID                                               name  \\\n",
      "0  1000002330                    The Songs of Adelaide & Abullah   \n",
      "1  1000003930      Greeting From Earth: ZGAC Arts Capsule For ET   \n",
      "2  1000004038                                     Where is Hank?   \n",
      "3  1000007540  ToshiCapital Rekordz Needs Help to Complete Album   \n",
      "4  1000011046  Community Film Project: The Art of Neighborhoo...   \n",
      "\n",
      "         category main_category currency    deadline     goal  \\\n",
      "0          Poetry    Publishing      GBP  2015-10-09   1000.0   \n",
      "1  Narrative Film  Film & Video      USD  2017-11-01  30000.0   \n",
      "2  Narrative Film  Film & Video      USD  2013-02-26  45000.0   \n",
      "3           Music         Music      USD  2012-04-16   5000.0   \n",
      "4    Film & Video  Film & Video      USD  2015-08-29  19500.0   \n",
      "\n",
      "              launched  pledged     state  backers country  usd pledged  \\\n",
      "0  2015-08-11 12:12:28      0.0    failed        0      GB          0.0   \n",
      "1  2017-09-02 04:43:57   2421.0    failed       15      US        100.0   \n",
      "2  2013-01-12 00:20:50    220.0    failed        3      US        220.0   \n",
      "3  2012-03-17 03:24:11      1.0    failed        1      US          1.0   \n",
      "4  2015-07-04 08:35:03   1283.0  canceled       14      US       1283.0   \n",
      "\n",
      "   usd_pledged_real  usd_goal_real  goal_met  usd  \n",
      "0               0.0        1533.95         0    0  \n",
      "1            2421.0       30000.00         0    0  \n",
      "2             220.0       45000.00         0    0  \n",
      "3               1.0        5000.00         0    0  \n",
      "4            1283.0       19500.00         0    0  \n"
     ]
    }
   ],
   "source": [
    "# Your code here:\n",
    "chusd= np.where(kickstarter['currency'] == 'USD',1,0)\n",
    "kickstarter['usd'] = goal_met_ext\n",
    "print(kickstarter.head(5))\n"
   ]
  },
  {
   "cell_type": "markdown",
   "metadata": {},
   "source": [
    "Now create a contingency table using the `pd.crosstab` function in the cell below to compare the `goal_met` and `usd` columns."
   ]
  },
  {
   "cell_type": "markdown",
   "metadata": {},
   "source": [
    "Import the `fisher_exact` function from `scipy.stats` and conduct the hypothesis test on the contingency table that you have generated above. You can read more about the `fisher_exact` function [here](https://docs.scipy.org/doc/scipy/reference/generated/scipy.stats.fisher_exact.html#scipy.stats.fisher_exact). The output of the function should be the odds ratio and the p-value. The p-value will provide you with the outcome of the test."
   ]
  },
  {
   "cell_type": "code",
   "execution_count": 41,
   "metadata": {},
   "outputs": [
    {
     "name": "stdout",
     "output_type": "stream",
     "text": [
      "Odds ratio:  inf\n",
      "Pvalue:  2e-323\n"
     ]
    }
   ],
   "source": [
    "# Your code here:\n",
    "import scipy.stats as stats\n",
    "newtable= pd.crosstab(kickstarter['goal_met'], kickstarter['usd'])\n",
    "\n",
    "oddsratio, pvalue = stats.fisher_exact(newtable)\n",
    "\n",
    "\n",
    "print('Odds ratio: ', oddsratio)\n",
    "print('Pvalue: ', pvalue)\n"
   ]
  },
  {
   "cell_type": "markdown",
   "metadata": {},
   "source": [
    "# Challenge 2 - The `linalg` submodule\n",
    "\n",
    "This submodule allows us to perform various linear algebra calculations. \n",
    "\n",
    "Using the solve function, find the solution of the equation system 5x + 2y = 3 and 3x + y = 2 in the cell below."
   ]
  },
  {
   "cell_type": "code",
   "execution_count": 43,
   "metadata": {},
   "outputs": [
    {
     "data": {
      "text/plain": [
       "array([ 1., -1.])"
      ]
     },
     "execution_count": 43,
     "metadata": {},
     "output_type": "execute_result"
    }
   ],
   "source": [
    "# Your code here:\n",
    "from scipy.linalg import solve\n",
    "arr1=np.array([[5,2],[3,1]])\n",
    "arr2=np.array([3,2])\n",
    "x=solve(arr1,arr2)\n",
    "x\n",
    "\n"
   ]
  },
  {
   "cell_type": "markdown",
   "metadata": {},
   "source": [
    "# Challenge 3 - The `interpolate` submodule\n",
    "\n",
    "This submodule allows us to interpolate between two points and create a continuous distribution based on the observed data.\n",
    "\n",
    "In the cell below, import the `interp1d` function and first take a sample of 10 rows from `kickstarter`. "
   ]
  },
  {
   "cell_type": "code",
   "execution_count": 47,
   "metadata": {},
   "outputs": [
    {
     "data": {
      "text/html": [
       "<div>\n",
       "<style scoped>\n",
       "    .dataframe tbody tr th:only-of-type {\n",
       "        vertical-align: middle;\n",
       "    }\n",
       "\n",
       "    .dataframe tbody tr th {\n",
       "        vertical-align: top;\n",
       "    }\n",
       "\n",
       "    .dataframe thead th {\n",
       "        text-align: right;\n",
       "    }\n",
       "</style>\n",
       "<table border=\"1\" class=\"dataframe\">\n",
       "  <thead>\n",
       "    <tr style=\"text-align: right;\">\n",
       "      <th></th>\n",
       "      <th>ID</th>\n",
       "      <th>name</th>\n",
       "      <th>category</th>\n",
       "      <th>main_category</th>\n",
       "      <th>currency</th>\n",
       "      <th>deadline</th>\n",
       "      <th>goal</th>\n",
       "      <th>launched</th>\n",
       "      <th>pledged</th>\n",
       "      <th>state</th>\n",
       "      <th>backers</th>\n",
       "      <th>country</th>\n",
       "      <th>usd pledged</th>\n",
       "      <th>usd_pledged_real</th>\n",
       "      <th>usd_goal_real</th>\n",
       "      <th>goal_met</th>\n",
       "      <th>usd</th>\n",
       "    </tr>\n",
       "  </thead>\n",
       "  <tbody>\n",
       "    <tr>\n",
       "      <th>208198</th>\n",
       "      <td>2061050514</td>\n",
       "      <td>10kW residential solar system</td>\n",
       "      <td>Technology</td>\n",
       "      <td>Technology</td>\n",
       "      <td>CAD</td>\n",
       "      <td>2015-04-26</td>\n",
       "      <td>45000.0</td>\n",
       "      <td>2015-03-27 22:52:37</td>\n",
       "      <td>0.0</td>\n",
       "      <td>failed</td>\n",
       "      <td>0</td>\n",
       "      <td>CA</td>\n",
       "      <td>0.00</td>\n",
       "      <td>0.00</td>\n",
       "      <td>37437.60</td>\n",
       "      <td>0</td>\n",
       "      <td>0</td>\n",
       "    </tr>\n",
       "    <tr>\n",
       "      <th>361922</th>\n",
       "      <td>91420182</td>\n",
       "      <td>Big Hearts Fund!</td>\n",
       "      <td>Product Design</td>\n",
       "      <td>Design</td>\n",
       "      <td>USD</td>\n",
       "      <td>2010-08-01</td>\n",
       "      <td>8000.0</td>\n",
       "      <td>2010-06-30 23:53:27</td>\n",
       "      <td>8370.0</td>\n",
       "      <td>successful</td>\n",
       "      <td>70</td>\n",
       "      <td>US</td>\n",
       "      <td>8370.00</td>\n",
       "      <td>8370.00</td>\n",
       "      <td>8000.00</td>\n",
       "      <td>1</td>\n",
       "      <td>1</td>\n",
       "    </tr>\n",
       "    <tr>\n",
       "      <th>372933</th>\n",
       "      <td>970427522</td>\n",
       "      <td>Jolly Jail</td>\n",
       "      <td>Video Games</td>\n",
       "      <td>Games</td>\n",
       "      <td>USD</td>\n",
       "      <td>2014-02-17</td>\n",
       "      <td>10000.0</td>\n",
       "      <td>2014-01-18 08:47:13</td>\n",
       "      <td>236.0</td>\n",
       "      <td>failed</td>\n",
       "      <td>17</td>\n",
       "      <td>US</td>\n",
       "      <td>236.00</td>\n",
       "      <td>236.00</td>\n",
       "      <td>10000.00</td>\n",
       "      <td>0</td>\n",
       "      <td>0</td>\n",
       "    </tr>\n",
       "    <tr>\n",
       "      <th>56286</th>\n",
       "      <td>1286400600</td>\n",
       "      <td>Hexglo | Bottle + Light in One</td>\n",
       "      <td>Product Design</td>\n",
       "      <td>Design</td>\n",
       "      <td>HKD</td>\n",
       "      <td>2017-03-01</td>\n",
       "      <td>80000.0</td>\n",
       "      <td>2017-01-25 05:00:48</td>\n",
       "      <td>85515.0</td>\n",
       "      <td>successful</td>\n",
       "      <td>76</td>\n",
       "      <td>HK</td>\n",
       "      <td>1257.31</td>\n",
       "      <td>11013.73</td>\n",
       "      <td>10303.44</td>\n",
       "      <td>1</td>\n",
       "      <td>1</td>\n",
       "    </tr>\n",
       "    <tr>\n",
       "      <th>184506</th>\n",
       "      <td>1939605743</td>\n",
       "      <td>Rowdy Rogers: The United Republics of Piracy F...</td>\n",
       "      <td>Art</td>\n",
       "      <td>Art</td>\n",
       "      <td>USD</td>\n",
       "      <td>2010-12-05</td>\n",
       "      <td>2200.0</td>\n",
       "      <td>2010-11-05 09:13:14</td>\n",
       "      <td>5.0</td>\n",
       "      <td>failed</td>\n",
       "      <td>1</td>\n",
       "      <td>US</td>\n",
       "      <td>5.00</td>\n",
       "      <td>5.00</td>\n",
       "      <td>2200.00</td>\n",
       "      <td>0</td>\n",
       "      <td>0</td>\n",
       "    </tr>\n",
       "    <tr>\n",
       "      <th>118364</th>\n",
       "      <td>1601375640</td>\n",
       "      <td>The Geeks Of Retro</td>\n",
       "      <td>Comedy</td>\n",
       "      <td>Film &amp; Video</td>\n",
       "      <td>USD</td>\n",
       "      <td>2014-06-27</td>\n",
       "      <td>25000.0</td>\n",
       "      <td>2014-05-28 23:17:50</td>\n",
       "      <td>160.0</td>\n",
       "      <td>failed</td>\n",
       "      <td>3</td>\n",
       "      <td>US</td>\n",
       "      <td>160.00</td>\n",
       "      <td>160.00</td>\n",
       "      <td>25000.00</td>\n",
       "      <td>0</td>\n",
       "      <td>0</td>\n",
       "    </tr>\n",
       "    <tr>\n",
       "      <th>283024</th>\n",
       "      <td>510197195</td>\n",
       "      <td>MOXIE (Queer Narrative Short)</td>\n",
       "      <td>Film &amp; Video</td>\n",
       "      <td>Film &amp; Video</td>\n",
       "      <td>USD</td>\n",
       "      <td>2017-03-02</td>\n",
       "      <td>5000.0</td>\n",
       "      <td>2017-02-08 19:42:25</td>\n",
       "      <td>1380.0</td>\n",
       "      <td>failed</td>\n",
       "      <td>13</td>\n",
       "      <td>US</td>\n",
       "      <td>630.00</td>\n",
       "      <td>1380.00</td>\n",
       "      <td>5000.00</td>\n",
       "      <td>0</td>\n",
       "      <td>0</td>\n",
       "    </tr>\n",
       "    <tr>\n",
       "      <th>320749</th>\n",
       "      <td>70332964</td>\n",
       "      <td>A New Beginning</td>\n",
       "      <td>Fiction</td>\n",
       "      <td>Publishing</td>\n",
       "      <td>USD</td>\n",
       "      <td>2017-04-30</td>\n",
       "      <td>6620.0</td>\n",
       "      <td>2017-03-31 23:15:42</td>\n",
       "      <td>0.0</td>\n",
       "      <td>canceled</td>\n",
       "      <td>0</td>\n",
       "      <td>US</td>\n",
       "      <td>0.00</td>\n",
       "      <td>0.00</td>\n",
       "      <td>6620.00</td>\n",
       "      <td>0</td>\n",
       "      <td>0</td>\n",
       "    </tr>\n",
       "    <tr>\n",
       "      <th>73484</th>\n",
       "      <td>1374329002</td>\n",
       "      <td>Puppet Antics - A range of videos involving pu...</td>\n",
       "      <td>Film &amp; Video</td>\n",
       "      <td>Film &amp; Video</td>\n",
       "      <td>GBP</td>\n",
       "      <td>2017-09-05</td>\n",
       "      <td>3200.0</td>\n",
       "      <td>2017-08-06 22:40:53</td>\n",
       "      <td>156.0</td>\n",
       "      <td>failed</td>\n",
       "      <td>8</td>\n",
       "      <td>GB</td>\n",
       "      <td>121.28</td>\n",
       "      <td>206.14</td>\n",
       "      <td>4228.44</td>\n",
       "      <td>0</td>\n",
       "      <td>0</td>\n",
       "    </tr>\n",
       "    <tr>\n",
       "      <th>94937</th>\n",
       "      <td>1482543389</td>\n",
       "      <td>2017 Purpose Planner: Make your vision a reality</td>\n",
       "      <td>Product Design</td>\n",
       "      <td>Design</td>\n",
       "      <td>USD</td>\n",
       "      <td>2016-12-29</td>\n",
       "      <td>10000.0</td>\n",
       "      <td>2016-12-13 01:00:07</td>\n",
       "      <td>1207.0</td>\n",
       "      <td>failed</td>\n",
       "      <td>32</td>\n",
       "      <td>US</td>\n",
       "      <td>159.00</td>\n",
       "      <td>1207.00</td>\n",
       "      <td>10000.00</td>\n",
       "      <td>0</td>\n",
       "      <td>0</td>\n",
       "    </tr>\n",
       "  </tbody>\n",
       "</table>\n",
       "</div>"
      ],
      "text/plain": [
       "                ID                                               name  \\\n",
       "208198  2061050514                      10kW residential solar system   \n",
       "361922    91420182                                   Big Hearts Fund!   \n",
       "372933   970427522                                         Jolly Jail   \n",
       "56286   1286400600                     Hexglo | Bottle + Light in One   \n",
       "184506  1939605743  Rowdy Rogers: The United Republics of Piracy F...   \n",
       "118364  1601375640                                 The Geeks Of Retro   \n",
       "283024   510197195                      MOXIE (Queer Narrative Short)   \n",
       "320749    70332964                                    A New Beginning   \n",
       "73484   1374329002  Puppet Antics - A range of videos involving pu...   \n",
       "94937   1482543389   2017 Purpose Planner: Make your vision a reality   \n",
       "\n",
       "              category main_category currency    deadline     goal  \\\n",
       "208198      Technology    Technology      CAD  2015-04-26  45000.0   \n",
       "361922  Product Design        Design      USD  2010-08-01   8000.0   \n",
       "372933     Video Games         Games      USD  2014-02-17  10000.0   \n",
       "56286   Product Design        Design      HKD  2017-03-01  80000.0   \n",
       "184506             Art           Art      USD  2010-12-05   2200.0   \n",
       "118364          Comedy  Film & Video      USD  2014-06-27  25000.0   \n",
       "283024    Film & Video  Film & Video      USD  2017-03-02   5000.0   \n",
       "320749         Fiction    Publishing      USD  2017-04-30   6620.0   \n",
       "73484     Film & Video  Film & Video      GBP  2017-09-05   3200.0   \n",
       "94937   Product Design        Design      USD  2016-12-29  10000.0   \n",
       "\n",
       "                   launched  pledged       state  backers country  \\\n",
       "208198  2015-03-27 22:52:37      0.0      failed        0      CA   \n",
       "361922  2010-06-30 23:53:27   8370.0  successful       70      US   \n",
       "372933  2014-01-18 08:47:13    236.0      failed       17      US   \n",
       "56286   2017-01-25 05:00:48  85515.0  successful       76      HK   \n",
       "184506  2010-11-05 09:13:14      5.0      failed        1      US   \n",
       "118364  2014-05-28 23:17:50    160.0      failed        3      US   \n",
       "283024  2017-02-08 19:42:25   1380.0      failed       13      US   \n",
       "320749  2017-03-31 23:15:42      0.0    canceled        0      US   \n",
       "73484   2017-08-06 22:40:53    156.0      failed        8      GB   \n",
       "94937   2016-12-13 01:00:07   1207.0      failed       32      US   \n",
       "\n",
       "        usd pledged  usd_pledged_real  usd_goal_real  goal_met  usd  \n",
       "208198         0.00              0.00       37437.60         0    0  \n",
       "361922      8370.00           8370.00        8000.00         1    1  \n",
       "372933       236.00            236.00       10000.00         0    0  \n",
       "56286       1257.31          11013.73       10303.44         1    1  \n",
       "184506         5.00              5.00        2200.00         0    0  \n",
       "118364       160.00            160.00       25000.00         0    0  \n",
       "283024       630.00           1380.00        5000.00         0    0  \n",
       "320749         0.00              0.00        6620.00         0    0  \n",
       "73484        121.28            206.14        4228.44         0    0  \n",
       "94937        159.00           1207.00       10000.00         0    0  "
      ]
     },
     "execution_count": 47,
     "metadata": {},
     "output_type": "execute_result"
    }
   ],
   "source": [
    "# Your code here:\n",
    "from scipy.interpolate import interp1d\n",
    "kickstarter.sample(n=10)\n"
   ]
  },
  {
   "cell_type": "markdown",
   "metadata": {},
   "source": [
    "Next, create a linear interpolation of the backers as a function of `usd_pledged_real`. Create a function `f` that generates a linear interpolation of backers as predicted by the amount of real pledged dollars."
   ]
  },
  {
   "cell_type": "code",
   "execution_count": 48,
   "metadata": {},
   "outputs": [
    {
     "ename": "ValueError",
     "evalue": "The truth value of a Series is ambiguous. Use a.empty, a.bool(), a.item(), a.any() or a.all().",
     "output_type": "error",
     "traceback": [
      "\u001b[1;31m---------------------------------------------------------------------------\u001b[0m",
      "\u001b[1;31mValueError\u001b[0m                                Traceback (most recent call last)",
      "\u001b[1;32m<ipython-input-48-e3eeef4cd138>\u001b[0m in \u001b[0;36m<module>\u001b[1;34m\u001b[0m\n\u001b[0;32m      1\u001b[0m \u001b[1;31m# Your code here:\u001b[0m\u001b[1;33m\u001b[0m\u001b[1;33m\u001b[0m\u001b[1;33m\u001b[0m\u001b[0m\n\u001b[1;32m----> 2\u001b[1;33m \u001b[0mx\u001b[0m \u001b[1;33m=\u001b[0m \u001b[0mnp\u001b[0m\u001b[1;33m.\u001b[0m\u001b[0marange\u001b[0m\u001b[1;33m(\u001b[0m\u001b[0mkickstarter\u001b[0m\u001b[1;33m[\u001b[0m\u001b[1;34m\"usd_pledged_real\"\u001b[0m\u001b[1;33m]\u001b[0m\u001b[1;33m)\u001b[0m\u001b[1;33m\u001b[0m\u001b[1;33m\u001b[0m\u001b[0m\n\u001b[0m\u001b[0;32m      3\u001b[0m \u001b[0my\u001b[0m \u001b[1;33m=\u001b[0m \u001b[0mnp\u001b[0m\u001b[1;33m.\u001b[0m\u001b[0mcos\u001b[0m\u001b[1;33m(\u001b[0m\u001b[0mx\u001b[0m\u001b[1;33m)\u001b[0m\u001b[1;33m\u001b[0m\u001b[1;33m\u001b[0m\u001b[0m\n\u001b[0;32m      4\u001b[0m \u001b[1;33m\u001b[0m\u001b[0m\n\u001b[0;32m      5\u001b[0m \u001b[1;31m# We generate an interpolation function and then apply that function to the new data and plot\u001b[0m\u001b[1;33m\u001b[0m\u001b[1;33m\u001b[0m\u001b[1;33m\u001b[0m\u001b[0m\n",
      "\u001b[1;32mC:\\ProgramData\\Anaconda3\\lib\\site-packages\\pandas\\core\\generic.py\u001b[0m in \u001b[0;36m__nonzero__\u001b[1;34m(self)\u001b[0m\n\u001b[0;32m   1476\u001b[0m         raise ValueError(\"The truth value of a {0} is ambiguous. \"\n\u001b[0;32m   1477\u001b[0m                          \u001b[1;34m\"Use a.empty, a.bool(), a.item(), a.any() or a.all().\"\u001b[0m\u001b[1;33m\u001b[0m\u001b[1;33m\u001b[0m\u001b[0m\n\u001b[1;32m-> 1478\u001b[1;33m                          .format(self.__class__.__name__))\n\u001b[0m\u001b[0;32m   1479\u001b[0m \u001b[1;33m\u001b[0m\u001b[0m\n\u001b[0;32m   1480\u001b[0m     \u001b[0m__bool__\u001b[0m \u001b[1;33m=\u001b[0m \u001b[0m__nonzero__\u001b[0m\u001b[1;33m\u001b[0m\u001b[1;33m\u001b[0m\u001b[0m\n",
      "\u001b[1;31mValueError\u001b[0m: The truth value of a Series is ambiguous. Use a.empty, a.bool(), a.item(), a.any() or a.all()."
     ]
    }
   ],
   "source": [
    "# Your code here:\n",
    "x = np.arange(kickstarter[\"usd_pledged_real\"])\n",
    "y = np.cos(x)\n",
    "\n",
    "# We generate an interpolation function and then apply that function to the new data and plot\n",
    "f = interp1d(x, y)\n",
    "xnew = np.arange(0, 10.25, 0.25)\n",
    "plt.plot(xnew, f(xnew))\n",
    "\n"
   ]
  },
  {
   "cell_type": "markdown",
   "metadata": {},
   "source": [
    "Now create a new variable called `x_new`. This variable will contain all integers between the minimum number of backers in our sample and the maximum number of backers. The goal here is to take the dataset that contains few obeservations due to sampling and fill all observations with a value using the interpolation function. \n",
    "\n",
    "Hint: one option is the `np.arange` function."
   ]
  },
  {
   "cell_type": "code",
   "execution_count": null,
   "metadata": {},
   "outputs": [],
   "source": [
    "# Your code here:\n",
    "\n"
   ]
  },
  {
   "cell_type": "markdown",
   "metadata": {},
   "source": [
    "Plot function f for all values of `x_new`. Run the code below."
   ]
  },
  {
   "cell_type": "code",
   "execution_count": null,
   "metadata": {},
   "outputs": [],
   "source": [
    "# Run this code:\n",
    "\n",
    "%matplotlib inline\n",
    "import matplotlib.pyplot as plt\n",
    "\n",
    "plt.plot(x_new, f(x_new))"
   ]
  },
  {
   "cell_type": "markdown",
   "metadata": {},
   "source": [
    "Next create a function that will generate a cubic interpolation function. Name the function `g`"
   ]
  },
  {
   "cell_type": "code",
   "execution_count": null,
   "metadata": {},
   "outputs": [],
   "source": [
    "# Your code here:\n",
    "\n"
   ]
  },
  {
   "cell_type": "code",
   "execution_count": null,
   "metadata": {},
   "outputs": [],
   "source": [
    "# Run this code:\n",
    "\n",
    "plt.plot(x_new, g(x_new))"
   ]
  },
  {
   "cell_type": "markdown",
   "metadata": {},
   "source": [
    "# Bonus Challenge - The Binomial Distribution\n",
    "\n",
    "The binomial distribution allows us to calculate the probability of k successes in n trials for a random variable with two possible outcomes (which we typically label success and failure).  \n",
    "\n",
    "The probability of success is typically denoted by p and the probability of failure is denoted by 1-p.\n",
    "\n",
    "The `scipy.stats` submodule contains a `binom` function for computing the probabilites of a random variable with the binomial distribution. You may read more about the binomial distribution [here](https://en.wikipedia.org/wiki/Binomial_distribution) and about the `binom` function [here](https://docs.scipy.org/doc/scipy/reference/generated/scipy.stats.binom.html#scipy.stats.binom).\n",
    "\n",
    "In the cell below, compute the probability that a die lands on 5 exactly 3 times in 8 tries.\n",
    "\n",
    "Hint: the probability of rolling a 5 is 1/6."
   ]
  },
  {
   "cell_type": "code",
   "execution_count": null,
   "metadata": {},
   "outputs": [],
   "source": [
    "# Your code here:\n",
    "\n"
   ]
  },
  {
   "cell_type": "code",
   "execution_count": null,
   "metadata": {},
   "outputs": [],
   "source": []
  }
 ],
 "metadata": {
  "kernelspec": {
   "display_name": "Python 3",
   "language": "python",
   "name": "python3"
  },
  "language_info": {
   "codemirror_mode": {
    "name": "ipython",
    "version": 3
   },
   "file_extension": ".py",
   "mimetype": "text/x-python",
   "name": "python",
   "nbconvert_exporter": "python",
   "pygments_lexer": "ipython3",
   "version": "3.7.3"
  }
 },
 "nbformat": 4,
 "nbformat_minor": 2
}
